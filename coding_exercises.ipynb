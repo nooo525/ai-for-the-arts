{
 "cells": [
  {
   "cell_type": "markdown",
   "id": "c9f20b00",
   "metadata": {},
   "source": [
    "# My First Python Code Practice\n",
    "This notebook is for learning basic programming concepts like printing, variables, and functions. My goal is to become comfortable reading Python code and understanding its social implications."
   ]
  },
  {
   "cell_type": "code",
   "execution_count": 1,
   "id": "c2cf3e40",
   "metadata": {},
   "outputs": [
    {
     "name": "stdout",
     "output_type": "stream",
     "text": [
      "Hello, World!\n"
     ]
    }
   ],
   "source": [
    "print(\"Hello, World!\")"
   ]
  },
  {
   "cell_type": "markdown",
   "id": "97e073c2-ad2a-41cf-8b45-dfac361c5b49",
   "metadata": {},
   "source": [
    "### print:\n",
    "- This is a built-in function in Python.\n",
    "- It tells the computer to display something on the screen.\n",
    "- Think of it like saying: “Hey Python, show this to the user!”"
   ]
  },
  {
   "cell_type": "markdown",
   "id": "c57b0f5f-bcf2-426e-931f-55fcc3161222",
   "metadata": {},
   "source": [
    "### (\"Hello, world!\"):\n",
    "- The text inside the parentheses is called a string — a sequence of characters.\n",
    "- Strings in Python are always enclosed in quotes (\" or ').\n",
    "- \"Hello, world!\" is the message we want to display."
   ]
  },
  {
   "cell_type": "markdown",
   "id": "5f7461a4-ed0d-4120-9571-848b04a32c82",
   "metadata": {},
   "source": [
    "### Putting it together:\n",
    "- print(\"Hello, world!\") tells Python to show the message Hello, world! in the output window or terminal."
   ]
  },
  {
   "cell_type": "code",
   "execution_count": 2,
   "id": "8686fe42",
   "metadata": {},
   "outputs": [
    {
     "name": "stdout",
     "output_type": "stream",
     "text": [
      "The sum is: 8\n"
     ]
    }
   ],
   "source": [
    "number1 = 5\n",
    "number2 = 3\n",
    "\n",
    "sum = number1 + number2\n",
    "\n",
    "print(\"The sum is:\", sum)\n"
   ]
  },
  {
   "cell_type": "markdown",
   "id": "e3ee5af4-c036-4ebc-b971-b30d2de9acd3",
   "metadata": {},
   "source": [
    "## Variables\n",
    "**Initial Prompt**: Could you suggest a modification of the Python code for “Hello,\n",
    "world!” to demonstrate the concept of variables to a complete beginner in\n",
    "programming? Please explain the code step-by-step highlighting any key\n",
    "aspects.\n",
    "A variable is a name that stores a value in a program."
   ]
  },
  {
   "cell_type": "code",
   "execution_count": 3,
   "id": "f96ac805-64bc-4991-ab6d-6e2ae239f03f",
   "metadata": {},
   "outputs": [
    {
     "name": "stdout",
     "output_type": "stream",
     "text": [
      "Hello, world!\n"
     ]
    }
   ],
   "source": [
    "message = \"Hello, world!\"\n",
    "print(message)"
   ]
  },
  {
   "cell_type": "markdown",
   "id": "c5264975-c753-4633-9f2d-3a8c0ee6737d",
   "metadata": {},
   "source": [
    "##### message = \"Hello, world!\"\n",
    "- This line creates a variable called message.\n",
    "- A variable is like a container that stores information — in this case, a string.\n",
    "- The = sign is called the assignment operator. It assigns the value \"Hello, world!\" to the variable message.\n",
    "  \n",
    "##### print(message)\n",
    "- This tells Python to display the contents of the variable message.\n",
    "- Instead of printing the string directly, we’re printing what’s stored in the variable."
   ]
  },
  {
   "cell_type": "markdown",
   "id": "983aefc6-3f94-4b41-b0cc-c7e04b68a593",
   "metadata": {},
   "source": [
    "### Key Learning Outcomes\n",
    "Variables are fundamental concepts in programming, acting like **labeled containers** that store specific pieces of data (e.g., text or numbers).\n",
    "\n",
    "1.  **The Assignment Operator (`=`):**\n",
    "    * The equals sign (`=`) is not used to check for equality; it is the **assignment operator**.\n",
    "    * It takes the value on the right-hand side and stores it inside the variable name on the left-hand side.\n",
    "\n",
    "2.  **String Concatenation (`+`):**\n",
    "    * The plus sign (`+`) can be used to **concatenate** (join) strings together, allowing variables to be easily integrated into sentences.\n",
    "\n",
    "3.  **Code Flexibility:**\n",
    "    * Using variables makes code **more dynamic and manageable**. We can easily change the stored value at the beginning of the program without having to rewrite every line of code that uses it.\n",
    "    "
   ]
  },
  {
   "cell_type": "markdown",
   "id": "c316cfce-e6f4-4473-acd8-b014104b83bf",
   "metadata": {},
   "source": [
    "## Function\n",
    "**Initial Prompt:** Could you suggest a modification of the Python code for “Hello,\n",
    "world!” to demonstrate the concept of functions to a complete beginner in\n",
    "programming? Please explain the code step-by-step highlighting any key\n",
    "aspects.\n",
    "A variable is a name that stores a value in a program."
   ]
  },
  {
   "cell_type": "code",
   "execution_count": 5,
   "id": "52e0ee2c-eb79-455c-aa17-ff4995a9987e",
   "metadata": {},
   "outputs": [
    {
     "name": "stdout",
     "output_type": "stream",
     "text": [
      "Hello, world!\n"
     ]
    }
   ],
   "source": [
    "def say_hello():\n",
    "    print(\"Hello, world!\")\n",
    "\n",
    "say_hello()"
   ]
  },
  {
   "cell_type": "markdown",
   "id": "ad64f85d-9ac1-4f16-b6cd-e2d74a4f7a90",
   "metadata": {},
   "source": [
    "##### def say_hello():\n",
    "- def is short for **define**  — it tells Python you're creating a **function**.\n",
    "- say_hello is the name of the function. You can name it anything (following naming rules).\n",
    "- The () means this function doesn’t take any input (yet).\n",
    "- The : starts the function block — everything indented below belongs to the function.\n",
    "\n",
    "##### print(\"Hello, world!\")\n",
    "This is the body of the function.\n",
    "- It runs only when the function is called.\n",
    "- It prints the message just like before.\n",
    "\n",
    "##### say_hello()\n",
    "This is the **function call**.\n",
    "- It tells Python to run the code inside the say_hello function."
   ]
  },
  {
   "cell_type": "markdown",
   "id": "0e4d1ce5-3b6f-4f3a-9d75-69de949ec863",
   "metadata": {},
   "source": [
    "### Key Learning Outcomes\n",
    "Functions are **reusable blocks of code** designed to perform a specific task, which makes a program organized, readable, and efficient.\n",
    "1.  **Defining a Function (`def`):**\n",
    "    * The keyword **`def`** is used to *define* (create) a function.\n",
    "    * The function name (e.g., `say_hello`) is followed by **parentheses `()`** (for arguments/inputs) and a **colon `:`**.\n",
    "2.  **Function Body:**\n",
    "    * The code inside the function (the body) must be **indented**. This code only runs when the function is *called*.\n",
    "3.  **Calling a Function:**\n",
    "    * To execute the code inside the function, you must **call** it by writing the function's name followed by parentheses (e.g., `say_hello()`).\n",
    "    * Functions can be called multiple times."
   ]
  },
  {
   "cell_type": "code",
   "execution_count": null,
   "id": "414b9dc9-98ea-47fe-be58-b058f2f5d7f4",
   "metadata": {},
   "outputs": [],
   "source": []
  }
 ],
 "metadata": {
  "kernelspec": {
   "display_name": "Python 3 (ipykernel)",
   "language": "python",
   "name": "python3"
  },
  "language_info": {
   "codemirror_mode": {
    "name": "ipython",
    "version": 3
   },
   "file_extension": ".py",
   "mimetype": "text/x-python",
   "name": "python",
   "nbconvert_exporter": "python",
   "pygments_lexer": "ipython3",
   "version": "3.12.1"
  }
 },
 "nbformat": 4,
 "nbformat_minor": 5
}
