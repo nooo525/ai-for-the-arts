{
 "cells": [
  {
   "cell_type": "markdown",
   "id": "c9f20b00",
   "metadata": {},
   "source": [
    "# Lab Portfolio\n",
    "Short exercises to learn how to read and present simple Python code, and to record prompts & reflections when using Microsoft Copilot in Codespaces. This notebook follows the course lab book guidance."
   ]
  },
  {
   "cell_type": "markdown",
   "id": "11d61a10-6eab-425c-a8e5-75aa68f112ef",
   "metadata": {},
   "source": [
    "## Hello, World!\n",
    "The following code was created as my first attempt at programming in this course. It is meant to help me understand how to write and run code in GitHub Codespaces."
   ]
  },
  {
   "cell_type": "code",
   "execution_count": 1,
   "id": "c2cf3e40",
   "metadata": {},
   "outputs": [
    {
     "name": "stdout",
     "output_type": "stream",
     "text": [
      "Hello, World!\n"
     ]
    }
   ],
   "source": [
    "print(\"Hello, World!\")"
   ]
  },
  {
   "cell_type": "markdown",
   "id": "3cd8e628-6555-4975-909b-12c0d8edccbf",
   "metadata": {},
   "source": [
    "## Print (first interaction with Copilot)\n",
    "**Prompt:** \n",
    ">“Could you suggest a Python code for ‘Hello, world!’ to demonstrate the concept of printing to a complete beginner in programming? Please explain the code step-by-step highlighting any key aspects. ”\n",
    "\n",
    "**Response:**\n",
    "\n",
    "> Absolutely! Here's a simple Python program that prints **\"Hello, world!\"** — a classic first step in learning any programming language:\n",
    "\n",
    ">```python\n",
    ">print(\"Hello, world!\")\n",
    ">```\n",
    "\n",
    ">**Step-by-Step Explanation:**\n",
    "\n",
    ">1. **`print`**:\n",
    "   >- This is a **built-in function** in Python.\n",
    "   >- It tells the computer to **display something on the screen**.\n",
    "   >- Think of it like saying: “Hey Python, show this to the user!”\n",
    "\n",
    ">2. **`(\"Hello, world!\")`**:\n",
    "   >- The text inside the parentheses is called a **string** — a sequence of characters.\n",
    "   >- Strings in Python are always enclosed in **quotes** (`\"` or `'`).\n",
    "   >- `\"Hello, world!\"` is the message we want to display.\n",
    "\n",
    ">3. **Putting it together**:\n",
    "   >- `print(\"Hello, world!\")` tells Python to show the message **Hello, world!** in the output window or terminal.\n",
    "\n",
    ">**Key Concepts for Beginners:**\n",
    "\n",
    ">- **Function**: A reusable piece of code that performs a specific task. `print()` is one such function.\n",
    ">- **String**: Text enclosed in quotes. It can be anything — words, numbers, symbols.\n",
    ">- **Syntax**: The rules of writing code. Python is known for its clean and readable syntax.\n",
    "\n",
    ">**What Happens When You Run It?**\n",
    "\n",
    ">When you run this code in a Python environment (like IDLE, VS Code, or an online interpreter), you’ll see:\n",
    "\n",
    ">```\n",
    ">Hello, world!\n",
    ">```\n",
    "\n",
    ">Would you like to try this in an online Python editor or see how to install Python on your computer to run it yourself?"
   ]
  },
  {
   "cell_type": "markdown",
   "id": "00455a4c-faa0-4d58-9e3e-2bca60e35f48",
   "metadata": {},
   "source": [
    "**What I learned:**\n",
    "Running this simple print(\"Hello, world!\") example helped me understand how Python communicates with the user. I learned that print() is like a messenger — it tells the computer to show something on the screen. The word \"Hello, world!\" inside the brackets is a string, which just means text data enclosed in quotes. I also realised that even though the code looks tiny, it introduces the three basic ideas of programming: functions, data, and syntax."
   ]
  },
  {
   "cell_type": "markdown",
   "id": "e3ee5af4-c036-4ebc-b971-b30d2de9acd3",
   "metadata": {},
   "source": [
    "## Variables\n",
    "**Initial Prompt:** \n",
    ">\"Could you suggest a modification of the Python code for “Hello,\n",
    "world!” to demonstrate the concept of variables to a complete beginner in\n",
    "programming? Please explain the code step-by-step highlighting any key\n",
    "aspects.\""
   ]
  },
  {
   "cell_type": "markdown",
   "id": "153a95be-5823-4e5b-9b32-6b855aee968d",
   "metadata": {},
   "source": [
    "**Response Summary:**  \n",
    "- A variable is like a container that stores information (for example text or numbers).  \n",
    "- The `=` sign is called the **assignment operator**; it assigns a value to a variable name.  \n",
    "- `print(message)` tells Python to display whatever is stored in the variable.  \n",
    "- Variables make code more flexible and reusable because we can change values without changing the whole program.  \n"
   ]
  },
  {
   "cell_type": "markdown",
   "id": "102d7666-4b14-44d5-8d32-436559b023b2",
   "metadata": {},
   "source": [
    "**Example Code**"
   ]
  },
  {
   "cell_type": "code",
   "execution_count": 3,
   "id": "f96ac805-64bc-4991-ab6d-6e2ae239f03f",
   "metadata": {},
   "outputs": [
    {
     "name": "stdout",
     "output_type": "stream",
     "text": [
      "Hello, world!\n"
     ]
    }
   ],
   "source": [
    "message = \"Hello, world!\"\n",
    "print(message)"
   ]
  },
  {
   "cell_type": "markdown",
   "id": "be9dcd01-c886-476c-aa69-1e49f7cf8c98",
   "metadata": {},
   "source": [
    "**Extra Example**"
   ]
  },
  {
   "cell_type": "code",
   "execution_count": 1,
   "id": "0a66d983-f5ed-4800-bb80-901bc5859016",
   "metadata": {},
   "outputs": [
    {
     "name": "stdout",
     "output_type": "stream",
     "text": [
      "Hello, Noreen!\n"
     ]
    }
   ],
   "source": [
    "name = \"Noreen\"\n",
    "greeting = \"Hello, \" + name + \"!\"\n",
    "print(greeting)"
   ]
  },
  {
   "cell_type": "markdown",
   "id": "983aefc6-3f94-4b41-b0cc-c7e04b68a593",
   "metadata": {},
   "source": [
    "**What I learned:**\n",
    "Using Copilot to learn about variables made the idea of “storing information” very clear.  \n",
    "I realised that `message = \"Hello, world!\"` feels like putting data inside a labelled box that I can reuse later.  \n",
    "It was also the first time I saw how the `+` sign joins strings together, which feels more creative than just typing a sentence once.  \n",
    "1.  **The Assignment Operator (`=`):**\n",
    "    * The equals sign (`=`) is not used to check for equality; it is the **assignment operator**.\n",
    "    * It takes the value on the right-hand side and stores it inside the variable name on the left-hand side.\n",
    "\n",
    "2.  **String Concatenation (`+`):**\n",
    "    * The plus sign (`+`) can be used to **concatenate** (join) strings together, allowing variables to be easily integrated into sentences.\n",
    "\n",
    "3.  **Code Flexibility:**\n",
    "    * Using variables makes code **more dynamic and manageable**. We can easily change the stored value at the beginning of the program without having to rewrite every line of code that uses it."
   ]
  },
  {
   "cell_type": "markdown",
   "id": "be85fb15-1676-4ffb-ab2b-17f4429a6e02",
   "metadata": {},
   "source": [
    "**Suggest Promept:**\n",
    ">“Would you like to explore how variables work with numbers next, or maybe how to take input from a user?” "
   ]
  },
  {
   "cell_type": "markdown",
   "id": "aea6ad08-59cb-445a-8c4a-ed7a04b2c976",
   "metadata": {},
   "source": [
    "**Follow-on Prompt:**\n",
    "> \"Could you show how variables work with numbers in Python? Please include an example that performs a simple calculation (for instance, adding or multiplying numbers) and explain the code step-by-step for a complete beginner. Then show what happens if I try to add a string and a number together, and how to fix that error.\"\n"
   ]
  },
  {
   "cell_type": "markdown",
   "id": "f0037092-a94f-40d6-9a75-3c8ca5b95e1d",
   "metadata": {},
   "source": [
    "**Response Summary:**\n",
    "- Introduced numeric variables `a = 5` and `b = 3` and showed how to add (`+`) and multiply (`*`) them.  \n",
    "- Demonstrated that `print()` can display numbers directly.  \n",
    "- Explained that trying to join a string and a number (`\"Your age is \" + age`) triggers a **TypeError**, because Python cannot combine different data types automatically.  \n",
    "- Showed two fixes:\n",
    "  1. Using `str()` to convert the number to text.  \n",
    "  2. Using **f-strings** (e.g., `f\"{name}, your age is {age}\"`) — clearer and preferred in modern Python.  "
   ]
  },
  {
   "cell_type": "markdown",
   "id": "3163692f-072f-4cc1-bc7f-2b2c8f074674",
   "metadata": {},
   "source": [
    "**Example 1:** Simple Calculation with Variables"
   ]
  },
  {
   "cell_type": "code",
   "execution_count": 1,
   "id": "b54cdcaf-b987-4b4d-819e-2e344e4eea8d",
   "metadata": {},
   "outputs": [
    {
     "name": "stdout",
     "output_type": "stream",
     "text": [
      "Sum: 8\n",
      "Product: 15\n"
     ]
    }
   ],
   "source": [
    "# Define variables\n",
    "a = 5\n",
    "b = 3\n",
    "\n",
    "# Perform a calculation\n",
    "sum_result = a + b\n",
    "product_result = a * b\n",
    "\n",
    "# Print the results\n",
    "print(\"Sum:\", sum_result)\n",
    "print(\"Product:\", product_result)"
   ]
  },
  {
   "cell_type": "markdown",
   "id": "e8a5d004-fca7-4588-b64e-8ffa3584b15c",
   "metadata": {},
   "source": [
    "**Example 2:** Mixing a String and a Number (Error)"
   ]
  },
  {
   "cell_type": "code",
   "execution_count": 2,
   "id": "6e8a2b49-33c2-4cef-a0f9-93bf74ec604a",
   "metadata": {},
   "outputs": [
    {
     "ename": "TypeError",
     "evalue": "can only concatenate str (not \"int\") to str",
     "output_type": "error",
     "traceback": [
      "\u001b[31m---------------------------------------------------------------------------\u001b[39m",
      "\u001b[31mTypeError\u001b[39m                                 Traceback (most recent call last)",
      "\u001b[36mCell\u001b[39m\u001b[36m \u001b[39m\u001b[32mIn[2]\u001b[39m\u001b[32m, line 5\u001b[39m\n\u001b[32m      2\u001b[39m age = \u001b[32m20\u001b[39m\n\u001b[32m      4\u001b[39m \u001b[38;5;66;03m# This will cause an error\u001b[39;00m\n\u001b[32m----> \u001b[39m\u001b[32m5\u001b[39m \u001b[38;5;28mprint\u001b[39m(\u001b[33;43m\"\u001b[39;49m\u001b[33;43mYour age is \u001b[39;49m\u001b[33;43m\"\u001b[39;49m\u001b[43m \u001b[49m\u001b[43m+\u001b[49m\u001b[43m \u001b[49m\u001b[43mage\u001b[49m)\n",
      "\u001b[31mTypeError\u001b[39m: can only concatenate str (not \"int\") to str"
     ]
    }
   ],
   "source": [
    "name = \"Noreen\"\n",
    "age = 20\n",
    "\n",
    "# This will cause an error\n",
    "print(\"Your age is \" + age)"
   ]
  },
  {
   "cell_type": "markdown",
   "id": "840f8682-2217-4257-9c90-1eee04d1b8c9",
   "metadata": {},
   "source": [
    "**How to fix?**"
   ]
  },
  {
   "cell_type": "code",
   "execution_count": 3,
   "id": "5950dc8c-3046-4fa1-a4a5-e882b2eb060b",
   "metadata": {},
   "outputs": [
    {
     "name": "stdout",
     "output_type": "stream",
     "text": [
      "Your age is 20\n"
     ]
    }
   ],
   "source": [
    "name = \"Noreen\"\n",
    "age = 20\n",
    "\n",
    "# Correct way\n",
    "print(\"Your age is \" + str(age))"
   ]
  },
  {
   "cell_type": "markdown",
   "id": "46ab0ef0-dda1-470d-83d7-f1c4f875c447",
   "metadata": {},
   "source": [
    "**What I learned:**\n",
    "I learned that numbers behave differently from text in Python.  \n",
    "At first, I thought `\"Your age is \" + age` would work, but the TypeError helped me understand that computers need exact type matches.  \n",
    "Using `str(age)` or f-strings fixed the problem easily.  \n",
    "Overall, this task made me realise that variables are not just containers for data; they also define *what kind* of data the program is working with. This distinction is essential for writing error-free code and explaining it clearly to others."
   ]
  },
  {
   "cell_type": "markdown",
   "id": "21a00f0f-d1f0-4711-86dc-ba0cf2023ee0",
   "metadata": {},
   "source": [
    "**Suggest Promept:**\n",
    ">“Would you like to try a mini exercise where you input numbers and get a result, like a budget or distance calculator?” "
   ]
  },
  {
   "cell_type": "markdown",
   "id": "d6649203-362e-42a8-9656-844ba9f54af5",
   "metadata": {},
   "source": [
    "**Follow-on Prompt:**\n",
    ">\"Could you create a simple example showing how to use variables with user input in Python? Please include step-by-step explanations for a complete beginner. The example could be something like a mini budget or distance calculator that asks the user for two numbers, performs a calculation, and prints the result. Also, explain what data type `input()` returns and how to convert it if necessary.\"\n"
   ]
  },
  {
   "cell_type": "markdown",
   "id": "36a00aa4-9a6c-4eaa-b095-da766b18ccec",
   "metadata": {},
   "source": [
    "**Response Summary:**  \n",
    "- Created a simple **budget calculator** example using `input()` to get income and expenses.  \n",
    "- Explained that `input()` **always returns a string**, even if the user types a number.  \n",
    "- Showed how to convert input strings into numbers with `float()` so Python can perform subtraction.  \n",
    "- Used variables (`income`, `expenses`, `balance`) to store and calculate values.  \n",
    "- Demonstrated how to display results using `print()`.  \n"
   ]
  },
  {
   "cell_type": "markdown",
   "id": "347110d8-387d-4a04-9e06-b4f665565941",
   "metadata": {},
   "source": [
    "**Example Code**"
   ]
  },
  {
   "cell_type": "code",
   "execution_count": 4,
   "id": "b3937fae-b893-48a9-8c1b-ca131bc3c532",
   "metadata": {},
   "outputs": [
    {
     "name": "stdin",
     "output_type": "stream",
     "text": [
      "Enter your monthly income:  200\n",
      "Enter your monthly expenses:  100\n"
     ]
    },
    {
     "name": "stdout",
     "output_type": "stream",
     "text": [
      "Your remaining balance is: 100.0\n"
     ]
    }
   ],
   "source": [
    "# Ask the user for input\n",
    "income = input(\"Enter your monthly income: \")\n",
    "expenses = input(\"Enter your monthly expenses: \")\n",
    "\n",
    "# Convert input strings to numbers (float)\n",
    "income = float(income)\n",
    "expenses = float(expenses)\n",
    "\n",
    "# Calculate remaining balance\n",
    "balance = income - expenses\n",
    "\n",
    "# Print the result\n",
    "print(\"Your remaining balance is:\", balance)"
   ]
  },
  {
   "cell_type": "markdown",
   "id": "ed4357d8-5c18-49f9-b465-88bf68e3c6a9",
   "metadata": {},
   "source": [
    "**What I learned:**\n",
    "This task made programming feel interactive for the first time.  \n",
    "When I typed numbers into the console and saw the computer calculate the balance, it felt like a real mini-app.  \n",
    "I learned that `input()` always returns a string, which means it can’t do arithmetic until I convert it using `float()`.  \n",
    "At first, I didn’t expect typing numbers to cause an error — but now I understand how data types matter.  \n",
    "The idea of converting between strings and numbers is simple but powerful. It shows how computers understand input literally, and how programmers translate that into meaningful actions."
   ]
  },
  {
   "cell_type": "markdown",
   "id": "c316cfce-e6f4-4473-acd8-b014104b83bf",
   "metadata": {},
   "source": [
    "## Function\n",
    "**Initial Prompt:** \n",
    ">\"Could you suggest a modification of the Python code for “Hello,\n",
    "world!” to demonstrate the concept of functions to a complete beginner in\n",
    "programming? Please explain the code step-by-step highlighting any key\n",
    "aspects.\n",
    "A variable is a name that stores a value in a program.\""
   ]
  },
  {
   "cell_type": "markdown",
   "id": "8a7ddae5-b2df-4786-8283-9c522dcf0934",
   "metadata": {},
   "source": [
    "**Response Summary:**  \n",
    "- A function is a reusable block of code that performs a specific task.  \n",
    "- The keyword def (short for define) is used to create a new function.  \n",
    "- The colon`:`and indentation show which lines belong inside the function.  \n",
    "- A function runs only when it is called — for example, using `say_hello()`.  \n",
    "- Functions help keep code organised, readable, and easy to reuse.  \n"
   ]
  },
  {
   "cell_type": "markdown",
   "id": "012d71ad-acca-4471-a858-064a73aa965b",
   "metadata": {},
   "source": [
    "**Example Code**"
   ]
  },
  {
   "cell_type": "code",
   "execution_count": 5,
   "id": "52e0ee2c-eb79-455c-aa17-ff4995a9987e",
   "metadata": {},
   "outputs": [
    {
     "name": "stdout",
     "output_type": "stream",
     "text": [
      "Hello, world!\n"
     ]
    }
   ],
   "source": [
    "def say_hello():\n",
    "    print(\"Hello, world!\")\n",
    "\n",
    "say_hello()"
   ]
  },
  {
   "cell_type": "markdown",
   "id": "0e4d1ce5-3b6f-4f3a-9d75-69de949ec863",
   "metadata": {
    "jp-MarkdownHeadingCollapsed": true
   },
   "source": [
    "**What I learned:**\n",
    "Functions are **reusable blocks of code** designed to perform a specific task, which makes a program organized, readable, and efficient.\n",
    "1.  **Defining a Function (`def`):**\n",
    "    * The keyword **`def`** is used to *define* (create) a function.\n",
    "    * The function name (e.g., `say_hello`) is followed by **parentheses `()`** (for arguments/inputs) and a **colon `:`**.\n",
    "2.  **Function Body:**\n",
    "    * The code inside the function (the body) must be **indented**. This code only runs when the function is *called*.\n",
    "3.  **Calling a Function:**\n",
    "    * To execute the code inside the function, you must **call** it by writing the function's name followed by parentheses (e.g., `say_hello()`).\n",
    "    * Functions can be called multiple times."
   ]
  },
  {
   "cell_type": "markdown",
   "id": "d62c8fcf-f663-4a9e-85bf-8c6c080f7855",
   "metadata": {},
   "source": [
    "**Suggest Prompt:**\n",
    ">“Would you like to explore how to make a function that takes a name and says hello to that person?” "
   ]
  },
  {
   "cell_type": "markdown",
   "id": "0e07fc29-13b0-416a-906f-fa220a442969",
   "metadata": {},
   "source": [
    "**Follow-on Prompt:**\n",
    ">“Could you modify the previous say_hello() example so the function takes a name as a parameter and prints a personalized greeting (for example, “Hello, Noreen!”)? Please explain the code step-by-step for a complete beginner, describe what a parameter and an argument are, and show how to call the function with different names.”  "
   ]
  },
  {
   "cell_type": "markdown",
   "id": "7b045ae2-38ec-4a2b-961a-cae5b964bb71",
   "metadata": {},
   "source": [
    "**Response Summary:**  \n",
    "- Introduced a **parameter** called `name` in the function definition `def say_hello(name):`.  \n",
    "- Explained that the **parameter** acts as a placeholder for data that will be passed into the function later.  \n",
    "- Defined **arguments** as the real values given to the function when calling it, such as `\"Noreen\"` or `\"Alex\"`.  \n",
    "- Used string concatenation (`\"Hello, \" + name + \"!\"`) to build a personalized message.  \n",
    "- Demonstrated multiple function calls with different names, showing that the same function can be reused flexibly.  "
   ]
  },
  {
   "cell_type": "markdown",
   "id": "9547bbe2-f6bf-4e74-be15-fab6163110b5",
   "metadata": {},
   "source": [
    "**Example Code**"
   ]
  },
  {
   "cell_type": "code",
   "execution_count": 6,
   "id": "0e7e32f5-871f-48a9-870c-668d8bdbc6be",
   "metadata": {},
   "outputs": [
    {
     "name": "stdout",
     "output_type": "stream",
     "text": [
      "Hello, Noreen!\n",
      "Hello, Alex!\n",
      "Hello, Taylor!\n"
     ]
    }
   ],
   "source": [
    "# Define a function that takes a name as a parameter\n",
    "def say_hello(name):\n",
    "    print(\"Hello, \" + name + \"!\")\n",
    "\n",
    "# Call the function with different names\n",
    "say_hello(\"Noreen\")\n",
    "say_hello(\"Alex\")\n",
    "say_hello(\"Taylor\")"
   ]
  },
  {
   "cell_type": "markdown",
   "id": "e716c2ae-7fff-4267-867e-bea3f901e119",
   "metadata": {},
   "source": [
    "**What I learned:**\n",
    "Functions can become interactive by using parameters. I learned that a **parameter** is like a blank label waiting to be filled, and an **argument** is the actual word I give it. They make code reusable but also adaptable — one single definition can produce many different results just by changing the input."
   ]
  },
  {
   "cell_type": "markdown",
   "id": "007b221f-92e8-4533-9ed6-3a109e28591f",
   "metadata": {},
   "source": [
    "**Suggest Prompt**\n",
    ">“Would you like to try making the function ask for the name using input() so it greets whoever runs the program?” "
   ]
  },
  {
   "cell_type": "markdown",
   "id": "04413b7f-8487-4bcf-abe2-6daf59c7b204",
   "metadata": {},
   "source": [
    "**Follow-on Prompt:**\n",
    "> “Could you modify the say_hello(name) function so that it asks the user for their name using input(), and then prints a personalized greeting? Please include step-by-step explanations for a complete beginner. Also explain what happens inside the function when input() is used, and why we don’t need to pass a parameter anymore.”\n"
   ]
  },
  {
   "cell_type": "markdown",
   "id": "be848e56-2d0c-4348-8d03-526616ff86de",
   "metadata": {},
   "source": [
    "**Response Summary:**  \n",
    "- Created a version of the `say_hello()` function that uses `input()` to ask the user for their name.  \n",
    "- Explained that `input()` displays a prompt message and pauses the program until the user types something.  \n",
    "- Highlighted that `input()` always returns a **string**, which is then stored in the variable `name`.  \n",
    "- Clarified that we don’t need a parameter in this case because the function itself collects the input.  \n",
    "- Showed how the function call `say_hello()` runs the greeting interactively.  "
   ]
  },
  {
   "cell_type": "markdown",
   "id": "86b356b3-82a3-4af6-acba-e6545d62d595",
   "metadata": {},
   "source": [
    "**Example Code**"
   ]
  },
  {
   "cell_type": "code",
   "execution_count": 10,
   "id": "14fb94db-17e9-4034-a09a-9de1fee8f2f6",
   "metadata": {},
   "outputs": [
    {
     "name": "stdin",
     "output_type": "stream",
     "text": [
      "What is your name?  Noreen\n"
     ]
    },
    {
     "name": "stdout",
     "output_type": "stream",
     "text": [
      "Hello, Noreen!\n"
     ]
    }
   ],
   "source": [
    "# Define a function that asks for the user's name and prints a greeting\n",
    "def say_hello():\n",
    "    name = input(\"What is your name? \")\n",
    "    print(\"Hello, \" + name + \"!\")\n",
    "# Call the function\n",
    "say_hello()"
   ]
  },
  {
   "cell_type": "markdown",
   "id": "9da0c9fb-aa16-4fb3-b0ca-4bbd8453c7ce",
   "metadata": {},
   "source": [
    "**What I learned:**\n",
    "This version of the function makes the code interactive — the program now communicates with the user directly. I learned that `input()` stops the program and waits for the user to type something, and that the result is always a string. Because the function gathers the name inside itself, I didn’t have to pass a parameter — which helped me understand the idea of *local variables*. "
   ]
  },
  {
   "cell_type": "markdown",
   "id": "3c823e73-7ffb-4c6d-a57f-8f74e2b6b326",
   "metadata": {},
   "source": [
    "**Suggest Prompt:**\n",
    ">“Would you like to expand this to ask for more details, like age or favorite color, and include them in the greeting?”"
   ]
  },
  {
   "cell_type": "markdown",
   "id": "968267c8-151c-4467-bcde-12e242c7078d",
   "metadata": {},
   "source": [
    "**Follow-on Prompt:**\n",
    ">\"Could you expand the previous say_hello() function so that it asks the user for more details, such as their name, age, and favorite color, and then prints a personalized greeting using all that information? Please explain the code step-by-step for a complete beginner, describe how multiple inputs are stored in different variables, and show how string concatenation or f-strings can combine them into one message.\""
   ]
  },
  {
   "cell_type": "markdown",
   "id": "b46c714c-3d4e-4b6d-90e4-45aa83049540",
   "metadata": {},
   "source": [
    "**Response Summary:**  \n",
    "- Created an updated version of `say_hello()` that collects **three inputs**: name, age, and favorite color.  \n",
    "- Explained that each `input()` prompt saves the user’s answer in a different variable.  \n",
    "- Clarified that `input()` always returns a **string**, so no conversion is needed unless performing arithmetic.  \n",
    "- Demonstrated how **f-strings** make it easy to combine variables in a single, readable output line.  \n",
    "- Highlighted that the function doesn’t require parameters because all data is collected inside the function.  "
   ]
  },
  {
   "cell_type": "markdown",
   "id": "bb68bff2-ccc5-4242-8a8d-0b556e4da7a6",
   "metadata": {},
   "source": [
    "**Example Code**"
   ]
  },
  {
   "cell_type": "code",
   "execution_count": 1,
   "id": "4b4725a3-bdb5-4c6a-911a-cf841000e2e2",
   "metadata": {},
   "outputs": [
    {
     "name": "stdin",
     "output_type": "stream",
     "text": [
      "What is your name?  Noreen\n",
      "How old are you?  20\n",
      "What is your favorite color?  pink\n"
     ]
    },
    {
     "name": "stdout",
     "output_type": "stream",
     "text": [
      "Hello, Noreen! You are 20 years old and your favorite color is pink.\n"
     ]
    }
   ],
   "source": [
    "# Define a function that asks for multiple details and prints a personalized greeting\n",
    "def say_hello():\n",
    "    name = input(\"What is your name? \")\n",
    "    age = input(\"How old are you? \")\n",
    "    color = input(\"What is your favorite color? \")\n",
    "\n",
    "    # Print a personalized message using f-strings\n",
    "    print(f\"Hello, {name}! You are {age} years old and your favorite color is {color}.\")\n",
    "\n",
    "say_hello()"
   ]
  },
  {
   "cell_type": "markdown",
   "id": "6c1600f9-be8b-40ad-b70d-b7153e7c7c15",
   "metadata": {},
   "source": [
    "**What I learned:**\n",
    "This was the most interactive function so far.  \n",
    "I learned that a single function can collect several pieces of information and combine them into a single meaningful message. Using f-strings made the output clear and friendly, and I can now see how functions can handle more complex, human-like interactions."
   ]
  },
  {
   "cell_type": "markdown",
   "id": "b9d26186-9619-4234-b2a1-bb795626c362",
   "metadata": {},
   "source": [
    "### Pseudocode\n",
    "#### Everyday Algorithm: Crossing the Road Safely\n",
    "\n",
    "This procedure outlines the steps required to cross a road using a signalized crosswalk (pedestrian light).\n",
    "\n",
    "1.  **Approach the Crossing:** Walk towards the designated pedestrian crosswalk.\n",
    "2.  **Request to Cross (Input):**\n",
    "    - Locate the pedestrian signal pole/box.\n",
    "    - Press the crossing request button.\n",
    "3.  **Wait for Signal (Conditional Loop):**\n",
    "    - Wait for the red hand symbol (or red man) to change.\n",
    "    - **IF** the walk signal (white walking figure) is displayed: proceed to the next step.\n",
    "    - **ELSE:** Continue waiting.\n",
    "4.  **Verify Traffic (Safety Check):**\n",
    "    - Look left, then right, then left again to confirm all traffic has stopped.\n",
    "5.  **Execution (Action):**\n",
    "    - Walk quickly and directly across the road.\n",
    "6.  **Termination:** Stop walking once you have reached the opposite curb."
   ]
  },
  {
   "cell_type": "code",
   "execution_count": null,
   "id": "bfa56f54-22a5-4180-83f9-4490d718e9ba",
   "metadata": {},
   "outputs": [],
   "source": []
  },
  {
   "cell_type": "markdown",
   "id": "49a8751d-cc7d-4341-99e2-c4e220ebd6c4",
   "metadata": {},
   "source": [
    "**Example Pseudocode:**\n",
    "\n",
    "INPUT: PedestrianAtCrosswalk (Boolean), TrafficLightStatus\n",
    "\n",
    "SET button_pressed = FALSE\n",
    "SET walk_signal = FALSE\n",
    "\n",
    "IF PedestrianAtCrosswalk IS TRUE:\n",
    "    SET button_pressed = TRUE\n",
    "    WHILE TrafficLightStatus IS NOT \"WALK\":\n",
    "        WAIT \n",
    "    \n",
    "    SET walk_signal = TRUE\n",
    "    \n",
    "    IF CheckTrafficStopped IS TRUE:\n",
    "        EXECUTE ACTION: CrossRoad\n",
    "        OUTPUT \"Reached opposite curb.\"\n",
    "    ELSE:\n",
    "        OUTPUT \"WARNING: Traffic not stopped. Wait again.\"\n",
    "\n",
    "ELSE:\n",
    "    OUTPUT \"No need to cross.\""
   ]
  },
  {
   "cell_type": "markdown",
   "id": "2c4fb2be-cfac-4d27-b1bd-dda57f808272",
   "metadata": {},
   "source": [
    "#### Key Feedback and Improvements from Copilot\n",
    "Copilot confirmed the logical flow was sound but identified several critical gaps, which is essential for understanding how real-world code can fail.\n",
    "\n",
    "\n",
    "**Missing definition for *CheckTrafficStopped***\t\n",
    "- The code uses a variable (CheckTrafficStopped) without defining its source (Is it sensor data? Is it an external input?). This shows a reliance on undefined external components.\n",
    "  \n",
    "**Potential Infinite Loop**\n",
    "- The WHILE loop could cause the program to freeze if the TrafficLightStatus never updates or gets stuck (a common bug in programming).\n",
    "  \n",
    "**Lack of Clarity on Status Update**\n",
    "- I did not specify how the TrafficLightStatus changes. Copilot's improved version added a comment to assume the status is updated externally, making the logic clearer.\n",
    "\n"
   ]
  },
  {
   "cell_type": "markdown",
   "id": "ee3e4d23-daf7-4a8d-bb36-55a156281ad4",
   "metadata": {},
   "source": [
    "#### code - crossing the road\n",
    "**Prompt:**  Please translate the following refined pseudocode for \"Crossing the Road Safely\" into actual Python code. Since the inputs are abstract (like traffic status), please use simple input() functions and boolean variables to simulate the necessary conditions. Explain the resulting Python code step-by-step."
   ]
  },
  {
   "cell_type": "code",
   "execution_count": null,
   "id": "b1ffce9c-63f3-45a4-be82-d38bbaba4762",
   "metadata": {},
   "outputs": [],
   "source": [
    "# Simulate inputs\n",
    "pedestrian_at_crosswalk = input(\"Is there a pedestrian at the crosswalk? (yes/no): \").strip().lower() == \"yes\"\n",
    "traffic_light_status = input(\"What is the traffic light status? (WALK/STOP): \").strip().upper()\n",
    "check_traffic_stopped = input(\"Has traffic stopped? (yes/no): \").strip().lower() == \"yes\"\n",
    "\n",
    "# Initial states\n",
    "button_pressed = False\n",
    "walk_signal = False\n",
    "\n",
    "# Logic\n",
    "if pedestrian_at_crosswalk:\n",
    "    button_pressed = True\n",
    "    print(\"Button pressed. Waiting for WALK signal...\")\n",
    "\n",
    "    while traffic_light_status != \"WALK\":\n",
    "        print(\"Still waiting...\")  # Simulate waiting\n",
    "        traffic_light_status = input(\"Update traffic light status (WALK/STOP): \").strip().upper()\n",
    "\n",
    "    walk_signal = True\n",
    "    print(\"WALK signal is ON.\")\n",
    "\n",
    "    if check_traffic_stopped:\n",
    "        print(\"Crossing the road...\")\n",
    "        print(\"Reached opposite curb.\")\n",
    "    else:\n",
    "        print(\"WARNING: Traffic not stopped. Wait again.\")\n",
    "else:\n",
    "    print(\"No need to cross.\")\n"
   ]
  },
  {
   "cell_type": "markdown",
   "id": "36a5a2b8-592c-4c01-b10f-ea8a977de9d3",
   "metadata": {},
   "source": [
    "### Reflection on Code Translation\n",
    "\n",
    "This exercise translated a practical, everyday **algorithm** into Python **code**, demonstrating how abstract logic is implemented using programming concepts.\n",
    "\n",
    "### Key Python Concepts Used:\n",
    "\n",
    "1.  **Input/Variable Assignment:** The program uses the `input()` function heavily to simulate real-world sensor data (like pressing a button or checking the traffic light status). The `input()` result is immediately assigned to variables (e.g., `pedestrian_at_crosswalk`).\n",
    "2.  **Boolean Logic:** The `input()` results are converted to Boolean (`True`/`False`) values for clear conditional checks.\n",
    "3.  **Conditional Statements:** The `if/else` structure (starting with `if pedestrian_at_crosswalk:`) handles the branching logic of the algorithm.\n",
    "4.  **Loops:** The `while` loop successfully addresses the \"wait for signal\" requirement identified in the pseudocode. It continuously asks for input until the status is \"WALK,\" effectively preventing the **\"potential infinite loop\"** issue noted in the pseudocode review by relying on user input to update the status.\n",
    "\n",
    "### Code Execution and Environment Reflection:\n",
    "\n",
    "* **Did the code run?** (Answer based on your experience.)\n",
    "    * *If NO:* Due to persistent **Jupyter kernel connection issues** in Codespace, I was unable to test this code live. This highlights the reality that even perfect code is useless without a functional environment (runtime/kernel).\n",
    "    * *If YES:* I successfully tested the code, confirming that the `while` loop simulation works by continuously prompting for the `WALK` status.\n",
    "* **Did it meet expectations?** Yes, the Python code translated the pseudocode's abstract steps (WAIT, CHECK) into concrete Python functions (`print()`, `while` loop, `input()`). The code successfully required the user to **manually update the traffic status** inside the loop, fulfilling the \"update externally\" assumption noted by Copilot.\n",
    "\n",
    "### Conclusion on Using Copilot for Code:\n",
    "\n",
    "Copilot was highly effective in this task. Not only did it generate the code, but its step-by-step approach forced me to critically examine how abstract ideas are mapped to specific Python syntax (e.g., how the abstract `WAIT` command becomes a combination of `print()` and the `while` loop). The process confirmed the importance of **variables**, **conditionals**, and **loops** as the core building blocks of any algorithm."
   ]
  },
  {
   "cell_type": "code",
   "execution_count": null,
   "id": "1a9d18ba-ffe2-4963-bee0-cbee2518c8ae",
   "metadata": {},
   "outputs": [],
   "source": []
  }
 ],
 "metadata": {
  "kernelspec": {
   "display_name": "Python 3 (ipykernel)",
   "language": "python",
   "name": "python3"
  },
  "language_info": {
   "codemirror_mode": {
    "name": "ipython",
    "version": 3
   },
   "file_extension": ".py",
   "mimetype": "text/x-python",
   "name": "python",
   "nbconvert_exporter": "python",
   "pygments_lexer": "ipython3",
   "version": "3.12.1"
  }
 },
 "nbformat": 4,
 "nbformat_minor": 5
}
