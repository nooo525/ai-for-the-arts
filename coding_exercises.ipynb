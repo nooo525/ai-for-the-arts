{
 "cells": [
  {
   "cell_type": "markdown",
   "id": "c9f20b00",
   "metadata": {},
   "source": [
    "# Lab Portfolio\n",
    "Short exercises to learn how to read and present simple Python code, and to record prompts & reflections when using Microsoft Copilot in Codespaces. This notebook follows the course lab book guidance."
   ]
  },
  {
   "cell_type": "markdown",
   "id": "11d61a10-6eab-425c-a8e5-75aa68f112ef",
   "metadata": {},
   "source": [
    "## Hello, World!\n",
    "The following code was created as my first attempt at programming in this course. It is meant to help me understand how to write and run code in GitHub Codespaces."
   ]
  },
  {
   "cell_type": "code",
   "execution_count": 1,
   "id": "c2cf3e40",
   "metadata": {},
   "outputs": [
    {
     "name": "stdout",
     "output_type": "stream",
     "text": [
      "Hello, World!\n"
     ]
    }
   ],
   "source": [
    "print(\"Hello, World!\")"
   ]
  },
  {
   "cell_type": "markdown",
   "id": "3cd8e628-6555-4975-909b-12c0d8edccbf",
   "metadata": {},
   "source": [
    "## Print (first interaction with Copilot)\n",
    "**Prompt:** \n",
    ">“Could you suggest a Python code for ‘Hello, world!’ to demonstrate the concept of printing to a complete beginner in programming? Please explain the code step-by-step highlighting any key aspects. ”\n",
    "\n",
    "**Response:**\n",
    "\n",
    "> Absolutely! Here's a simple Python program that prints **\"Hello, world!\"** — a classic first step in learning any programming language:\n",
    "\n",
    ">```python\n",
    ">print(\"Hello, world!\")\n",
    ">```\n",
    "\n",
    ">**Step-by-Step Explanation:**\n",
    "\n",
    ">1. **`print`**:\n",
    "   >- This is a **built-in function** in Python.\n",
    "   >- It tells the computer to **display something on the screen**.\n",
    "   >- Think of it like saying: “Hey Python, show this to the user!”\n",
    "\n",
    ">2. **`(\"Hello, world!\")`**:\n",
    "   >- The text inside the parentheses is called a **string** — a sequence of characters.\n",
    "   >- Strings in Python are always enclosed in **quotes** (`\"` or `'`).\n",
    "   >- `\"Hello, world!\"` is the message we want to display.\n",
    "\n",
    ">3. **Putting it together**:\n",
    "   >- `print(\"Hello, world!\")` tells Python to show the message **Hello, world!** in the output window or terminal.\n",
    "\n",
    ">**Key Concepts for Beginners:**\n",
    "\n",
    ">- **Function**: A reusable piece of code that performs a specific task. `print()` is one such function.\n",
    ">- **String**: Text enclosed in quotes. It can be anything — words, numbers, symbols.\n",
    ">- **Syntax**: The rules of writing code. Python is known for its clean and readable syntax.\n",
    "\n",
    ">**What Happens When You Run It?**\n",
    "\n",
    ">When you run this code in a Python environment (like IDLE, VS Code, or an online interpreter), you’ll see:\n",
    "\n",
    ">```\n",
    ">Hello, world!\n",
    ">```\n",
    "\n",
    ">Would you like to try this in an online Python editor or see how to install Python on your computer to run it yourself?"
   ]
  },
  {
   "cell_type": "markdown",
   "id": "00455a4c-faa0-4d58-9e3e-2bca60e35f48",
   "metadata": {},
   "source": [
    "**What I learned:**\n",
    "Running this simple print(\"Hello, world!\") example helped me understand how Python communicates with the user. I learned that print() is like a messenger — it tells the computer to show something on the screen. The word \"Hello, world!\" inside the brackets is a string, which just means text data enclosed in quotes. I also realised that even though the code looks tiny, it introduces the three basic ideas of programming: functions, data, and syntax."
   ]
  },
  {
   "cell_type": "markdown",
   "id": "e3ee5af4-c036-4ebc-b971-b30d2de9acd3",
   "metadata": {},
   "source": [
    "## Variables\n",
    "**Initial Prompt:** \n",
    ">\"Could you suggest a modification of the Python code for “Hello,\n",
    "world!” to demonstrate the concept of variables to a complete beginner in\n",
    "programming? Please explain the code step-by-step highlighting any key\n",
    "aspects.\""
   ]
  },
  {
   "cell_type": "markdown",
   "id": "153a95be-5823-4e5b-9b32-6b855aee968d",
   "metadata": {},
   "source": [
    "**Response Summary:**  \n",
    "- A variable is like a container that stores information (for example text or numbers).  \n",
    "- The `=` sign is called the **assignment operator**; it assigns a value to a variable name.  \n",
    "- `print(message)` tells Python to display whatever is stored in the variable.  \n",
    "- Variables make code more flexible and reusable because we can change values without changing the whole program.  \n"
   ]
  },
  {
   "cell_type": "markdown",
   "id": "102d7666-4b14-44d5-8d32-436559b023b2",
   "metadata": {},
   "source": [
    "**Example Code**"
   ]
  },
  {
   "cell_type": "code",
   "execution_count": 3,
   "id": "f96ac805-64bc-4991-ab6d-6e2ae239f03f",
   "metadata": {},
   "outputs": [
    {
     "name": "stdout",
     "output_type": "stream",
     "text": [
      "Hello, world!\n"
     ]
    }
   ],
   "source": [
    "message = \"Hello, world!\"\n",
    "print(message)"
   ]
  },
  {
   "cell_type": "markdown",
   "id": "be9dcd01-c886-476c-aa69-1e49f7cf8c98",
   "metadata": {},
   "source": [
    "**Extra Example**"
   ]
  },
  {
   "cell_type": "code",
   "execution_count": 1,
   "id": "0a66d983-f5ed-4800-bb80-901bc5859016",
   "metadata": {},
   "outputs": [
    {
     "name": "stdout",
     "output_type": "stream",
     "text": [
      "Hello, Noreen!\n"
     ]
    }
   ],
   "source": [
    "name = \"Noreen\"\n",
    "greeting = \"Hello, \" + name + \"!\"\n",
    "print(greeting)"
   ]
  },
  {
   "cell_type": "markdown",
   "id": "983aefc6-3f94-4b41-b0cc-c7e04b68a593",
   "metadata": {},
   "source": [
    "**What I learned:**\n",
    "Using Copilot to learn about variables made the idea of “storing information” very clear.  \n",
    "I realised that `message = \"Hello, world!\"` feels like putting data inside a labelled box that I can reuse later.  \n",
    "It was also the first time I saw how the `+` sign joins strings together, which feels more creative than just typing a sentence once.  \n",
    "1.  **The Assignment Operator (`=`):**\n",
    "    * The equals sign (`=`) is not used to check for equality; it is the **assignment operator**.\n",
    "    * It takes the value on the right-hand side and stores it inside the variable name on the left-hand side.\n",
    "\n",
    "2.  **String Concatenation (`+`):**\n",
    "    * The plus sign (`+`) can be used to **concatenate** (join) strings together, allowing variables to be easily integrated into sentences.\n",
    "\n",
    "3.  **Code Flexibility:**\n",
    "    * Using variables makes code **more dynamic and manageable**. We can easily change the stored value at the beginning of the program without having to rewrite every line of code that uses it."
   ]
  },
  {
   "cell_type": "markdown",
   "id": "be85fb15-1676-4ffb-ab2b-17f4429a6e02",
   "metadata": {},
   "source": [
    "**Suggest Promept:**\n",
    ">“Would you like to explore how variables work with numbers next, or maybe how to take input from a user?” "
   ]
  },
  {
   "cell_type": "markdown",
   "id": "aea6ad08-59cb-445a-8c4a-ed7a04b2c976",
   "metadata": {},
   "source": [
    "**Follow-on Prompt:**\n",
    "> \"Could you show how variables work with numbers in Python? Please include an example that performs a simple calculation (for instance, adding or multiplying numbers) and explain the code step-by-step for a complete beginner. Then show what happens if I try to add a string and a number together, and how to fix that error.\"\n"
   ]
  },
  {
   "cell_type": "markdown",
   "id": "f0037092-a94f-40d6-9a75-3c8ca5b95e1d",
   "metadata": {},
   "source": [
    "**Response Summary:**\n",
    "- Introduced numeric variables `a = 5` and `b = 3` and showed how to add (`+`) and multiply (`*`) them.  \n",
    "- Demonstrated that `print()` can display numbers directly.  \n",
    "- Explained that trying to join a string and a number (`\"Your age is \" + age`) triggers a **TypeError**, because Python cannot combine different data types automatically.  \n",
    "- Showed two fixes:\n",
    "  1. Using `str()` to convert the number to text.  \n",
    "  2. Using **f-strings** (e.g., `f\"{name}, your age is {age}\"`) — clearer and preferred in modern Python.  "
   ]
  },
  {
   "cell_type": "markdown",
   "id": "3163692f-072f-4cc1-bc7f-2b2c8f074674",
   "metadata": {},
   "source": [
    "**Example 1:** Simple Calculation with Variables"
   ]
  },
  {
   "cell_type": "code",
   "execution_count": 1,
   "id": "b54cdcaf-b987-4b4d-819e-2e344e4eea8d",
   "metadata": {},
   "outputs": [
    {
     "name": "stdout",
     "output_type": "stream",
     "text": [
      "Sum: 8\n",
      "Product: 15\n"
     ]
    }
   ],
   "source": [
    "# Define variables\n",
    "a = 5\n",
    "b = 3\n",
    "\n",
    "# Perform a calculation\n",
    "sum_result = a + b\n",
    "product_result = a * b\n",
    "\n",
    "# Print the results\n",
    "print(\"Sum:\", sum_result)\n",
    "print(\"Product:\", product_result)"
   ]
  },
  {
   "cell_type": "markdown",
   "id": "e8a5d004-fca7-4588-b64e-8ffa3584b15c",
   "metadata": {},
   "source": [
    "**Example 2:** Mixing a String and a Number (Error)"
   ]
  },
  {
   "cell_type": "code",
   "execution_count": 2,
   "id": "6e8a2b49-33c2-4cef-a0f9-93bf74ec604a",
   "metadata": {},
   "outputs": [
    {
     "ename": "TypeError",
     "evalue": "can only concatenate str (not \"int\") to str",
     "output_type": "error",
     "traceback": [
      "\u001b[31m---------------------------------------------------------------------------\u001b[39m",
      "\u001b[31mTypeError\u001b[39m                                 Traceback (most recent call last)",
      "\u001b[36mCell\u001b[39m\u001b[36m \u001b[39m\u001b[32mIn[2]\u001b[39m\u001b[32m, line 5\u001b[39m\n\u001b[32m      2\u001b[39m age = \u001b[32m20\u001b[39m\n\u001b[32m      4\u001b[39m \u001b[38;5;66;03m# This will cause an error\u001b[39;00m\n\u001b[32m----> \u001b[39m\u001b[32m5\u001b[39m \u001b[38;5;28mprint\u001b[39m(\u001b[33;43m\"\u001b[39;49m\u001b[33;43mYour age is \u001b[39;49m\u001b[33;43m\"\u001b[39;49m\u001b[43m \u001b[49m\u001b[43m+\u001b[49m\u001b[43m \u001b[49m\u001b[43mage\u001b[49m)\n",
      "\u001b[31mTypeError\u001b[39m: can only concatenate str (not \"int\") to str"
     ]
    }
   ],
   "source": [
    "name = \"Noreen\"\n",
    "age = 20\n",
    "\n",
    "# This will cause an error\n",
    "print(\"Your age is \" + age)"
   ]
  },
  {
   "cell_type": "markdown",
   "id": "840f8682-2217-4257-9c90-1eee04d1b8c9",
   "metadata": {},
   "source": [
    "**How to fix?**"
   ]
  },
  {
   "cell_type": "code",
   "execution_count": 3,
   "id": "5950dc8c-3046-4fa1-a4a5-e882b2eb060b",
   "metadata": {},
   "outputs": [
    {
     "name": "stdout",
     "output_type": "stream",
     "text": [
      "Your age is 20\n"
     ]
    }
   ],
   "source": [
    "name = \"Noreen\"\n",
    "age = 20\n",
    "\n",
    "# Correct way\n",
    "print(\"Your age is \" + str(age))"
   ]
  },
  {
   "cell_type": "markdown",
   "id": "46ab0ef0-dda1-470d-83d7-f1c4f875c447",
   "metadata": {},
   "source": [
    "**What I learned:**\n",
    "I learned that numbers behave differently from text in Python.  \n",
    "At first, I thought `\"Your age is \" + age` would work, but the TypeError helped me understand that computers need exact type matches.  \n",
    "Using `str(age)` or f-strings fixed the problem easily.  \n",
    "Overall, this task made me realise that variables are not just containers for data; they also define *what kind* of data the program is working with. This distinction is essential for writing error-free code and explaining it clearly to others."
   ]
  },
  {
   "cell_type": "markdown",
   "id": "21a00f0f-d1f0-4711-86dc-ba0cf2023ee0",
   "metadata": {},
   "source": [
    "**Suggest Promept:**\n",
    ">“Would you like to try a mini exercise where you input numbers and get a result, like a budget or distance calculator?” "
   ]
  },
  {
   "cell_type": "markdown",
   "id": "d6649203-362e-42a8-9656-844ba9f54af5",
   "metadata": {},
   "source": [
    "**Follow-on Prompt:**\n",
    ">\"Could you create a simple example showing how to use variables with user input in Python? Please include step-by-step explanations for a complete beginner. The example could be something like a mini budget or distance calculator that asks the user for two numbers, performs a calculation, and prints the result. Also, explain what data type `input()` returns and how to convert it if necessary.\"\n"
   ]
  },
  {
   "cell_type": "markdown",
   "id": "36a00aa4-9a6c-4eaa-b095-da766b18ccec",
   "metadata": {},
   "source": [
    "**Response Summary:**  \n",
    "- Created a simple **budget calculator** example using `input()` to get income and expenses.  \n",
    "- Explained that `input()` **always returns a string**, even if the user types a number.  \n",
    "- Showed how to convert input strings into numbers with `float()` so Python can perform subtraction.  \n",
    "- Used variables (`income`, `expenses`, `balance`) to store and calculate values.  \n",
    "- Demonstrated how to display results using `print()`.  \n"
   ]
  },
  {
   "cell_type": "markdown",
   "id": "347110d8-387d-4a04-9e06-b4f665565941",
   "metadata": {},
   "source": [
    "**Example Code**"
   ]
  },
  {
   "cell_type": "code",
   "execution_count": 4,
   "id": "b3937fae-b893-48a9-8c1b-ca131bc3c532",
   "metadata": {},
   "outputs": [
    {
     "name": "stdin",
     "output_type": "stream",
     "text": [
      "Enter your monthly income:  200\n",
      "Enter your monthly expenses:  100\n"
     ]
    },
    {
     "name": "stdout",
     "output_type": "stream",
     "text": [
      "Your remaining balance is: 100.0\n"
     ]
    }
   ],
   "source": [
    "# Ask the user for input\n",
    "income = input(\"Enter your monthly income: \")\n",
    "expenses = input(\"Enter your monthly expenses: \")\n",
    "\n",
    "# Convert input strings to numbers (float)\n",
    "income = float(income)\n",
    "expenses = float(expenses)\n",
    "\n",
    "# Calculate remaining balance\n",
    "balance = income - expenses\n",
    "\n",
    "# Print the result\n",
    "print(\"Your remaining balance is:\", balance)"
   ]
  },
  {
   "cell_type": "markdown",
   "id": "ed4357d8-5c18-49f9-b465-88bf68e3c6a9",
   "metadata": {},
   "source": [
    "**What I learned:**\n",
    "This task made programming feel interactive for the first time.  \n",
    "When I typed numbers into the console and saw the computer calculate the balance, it felt like a real mini-app.  \n",
    "I learned that `input()` always returns a string, which means it can’t do arithmetic until I convert it using `float()`.  \n",
    "At first, I didn’t expect typing numbers to cause an error — but now I understand how data types matter.  \n",
    "The idea of converting between strings and numbers is simple but powerful. It shows how computers understand input literally, and how programmers translate that into meaningful actions."
   ]
  },
  {
   "cell_type": "markdown",
   "id": "c316cfce-e6f4-4473-acd8-b014104b83bf",
   "metadata": {},
   "source": [
    "## Function\n",
    "**Initial Prompt:** \n",
    ">\"Could you suggest a modification of the Python code for “Hello,world!” to demonstrate the concept of functions to a complete beginner in programming? Please explain the code step-by-step highlighting any key aspects.A variable is a name that stores a value in a program.\""
   ]
  },
  {
   "cell_type": "markdown",
   "id": "8a7ddae5-b2df-4786-8283-9c522dcf0934",
   "metadata": {},
   "source": [
    "**Response Summary:**  \n",
    "- A function is a reusable block of code that performs a specific task.  \n",
    "- The keyword def (short for define) is used to create a new function.  \n",
    "- The colon`:`and indentation show which lines belong inside the function.  \n",
    "- A function runs only when it is called — for example, using `say_hello()`.  \n",
    "- Functions help keep code organised, readable, and easy to reuse.  \n"
   ]
  },
  {
   "cell_type": "markdown",
   "id": "012d71ad-acca-4471-a858-064a73aa965b",
   "metadata": {},
   "source": [
    "**Example Code**"
   ]
  },
  {
   "cell_type": "code",
   "execution_count": 5,
   "id": "52e0ee2c-eb79-455c-aa17-ff4995a9987e",
   "metadata": {},
   "outputs": [
    {
     "name": "stdout",
     "output_type": "stream",
     "text": [
      "Hello, world!\n"
     ]
    }
   ],
   "source": [
    "def say_hello():\n",
    "    print(\"Hello, world!\")\n",
    "\n",
    "say_hello()"
   ]
  },
  {
   "cell_type": "markdown",
   "id": "0e4d1ce5-3b6f-4f3a-9d75-69de949ec863",
   "metadata": {
    "jp-MarkdownHeadingCollapsed": true
   },
   "source": [
    "**What I learned:**\n",
    "Functions are **reusable blocks of code** designed to perform a specific task, which makes a program organized, readable, and efficient.\n",
    "1.  **Defining a Function (`def`):**\n",
    "    * The keyword **`def`** is used to *define* (create) a function.\n",
    "    * The function name (e.g., `say_hello`) is followed by **parentheses `()`** (for arguments/inputs) and a **colon `:`**.\n",
    "2.  **Function Body:**\n",
    "    * The code inside the function (the body) must be **indented**. This code only runs when the function is *called*.\n",
    "3.  **Calling a Function:**\n",
    "    * To execute the code inside the function, you must **call** it by writing the function's name followed by parentheses (e.g., `say_hello()`).\n",
    "    * Functions can be called multiple times."
   ]
  },
  {
   "cell_type": "markdown",
   "id": "d62c8fcf-f663-4a9e-85bf-8c6c080f7855",
   "metadata": {},
   "source": [
    "**Suggest Prompt:**\n",
    ">“Would you like to explore how to make a function that takes a name and says hello to that person?” "
   ]
  },
  {
   "cell_type": "markdown",
   "id": "0e07fc29-13b0-416a-906f-fa220a442969",
   "metadata": {},
   "source": [
    "**Follow-on Prompt:**\n",
    ">“Could you modify the previous say_hello() example so the function takes a name as a parameter and prints a personalized greeting (for example, “Hello, Noreen!”)? Please explain the code step-by-step for a complete beginner, describe what a parameter and an argument are, and show how to call the function with different names.”  "
   ]
  },
  {
   "cell_type": "markdown",
   "id": "7b045ae2-38ec-4a2b-961a-cae5b964bb71",
   "metadata": {},
   "source": [
    "**Response Summary:**  \n",
    "- Introduced a **parameter** called `name` in the function definition `def say_hello(name):`.  \n",
    "- Explained that the **parameter** acts as a placeholder for data that will be passed into the function later.  \n",
    "- Defined **arguments** as the real values given to the function when calling it, such as `\"Noreen\"` or `\"Alex\"`.  \n",
    "- Used string concatenation (`\"Hello, \" + name + \"!\"`) to build a personalized message.  \n",
    "- Demonstrated multiple function calls with different names, showing that the same function can be reused flexibly.  "
   ]
  },
  {
   "cell_type": "markdown",
   "id": "9547bbe2-f6bf-4e74-be15-fab6163110b5",
   "metadata": {},
   "source": [
    "**Example Code**"
   ]
  },
  {
   "cell_type": "code",
   "execution_count": 6,
   "id": "0e7e32f5-871f-48a9-870c-668d8bdbc6be",
   "metadata": {},
   "outputs": [
    {
     "name": "stdout",
     "output_type": "stream",
     "text": [
      "Hello, Noreen!\n",
      "Hello, Alex!\n",
      "Hello, Taylor!\n"
     ]
    }
   ],
   "source": [
    "# Define a function that takes a name as a parameter\n",
    "def say_hello(name):\n",
    "    print(\"Hello, \" + name + \"!\")\n",
    "\n",
    "# Call the function with different names\n",
    "say_hello(\"Noreen\")\n",
    "say_hello(\"Alex\")\n",
    "say_hello(\"Taylor\")"
   ]
  },
  {
   "cell_type": "markdown",
   "id": "e716c2ae-7fff-4267-867e-bea3f901e119",
   "metadata": {},
   "source": [
    "**What I learned:**\n",
    "Functions can become interactive by using parameters. I learned that a **parameter** is like a blank label waiting to be filled, and an **argument** is the actual word I give it. They make code reusable but also adaptable — one single definition can produce many different results just by changing the input."
   ]
  },
  {
   "cell_type": "markdown",
   "id": "007b221f-92e8-4533-9ed6-3a109e28591f",
   "metadata": {},
   "source": [
    "**Suggest Prompt**\n",
    ">“Would you like to try making the function ask for the name using input() so it greets whoever runs the program?” "
   ]
  },
  {
   "cell_type": "markdown",
   "id": "04413b7f-8487-4bcf-abe2-6daf59c7b204",
   "metadata": {},
   "source": [
    "**Follow-on Prompt:**\n",
    "> “Could you modify the say_hello(name) function so that it asks the user for their name using input(), and then prints a personalized greeting? Please include step-by-step explanations for a complete beginner. Also explain what happens inside the function when input() is used, and why we don’t need to pass a parameter anymore.”\n"
   ]
  },
  {
   "cell_type": "markdown",
   "id": "be848e56-2d0c-4348-8d03-526616ff86de",
   "metadata": {},
   "source": [
    "**Response Summary:**  \n",
    "- Created a version of the `say_hello()` function that uses `input()` to ask the user for their name.  \n",
    "- Explained that `input()` displays a prompt message and pauses the program until the user types something.  \n",
    "- Highlighted that `input()` always returns a **string**, which is then stored in the variable `name`.  \n",
    "- Clarified that we don’t need a parameter in this case because the function itself collects the input.  \n",
    "- Showed how the function call `say_hello()` runs the greeting interactively.  "
   ]
  },
  {
   "cell_type": "markdown",
   "id": "86b356b3-82a3-4af6-acba-e6545d62d595",
   "metadata": {},
   "source": [
    "**Example Code**"
   ]
  },
  {
   "cell_type": "code",
   "execution_count": 10,
   "id": "14fb94db-17e9-4034-a09a-9de1fee8f2f6",
   "metadata": {},
   "outputs": [
    {
     "name": "stdin",
     "output_type": "stream",
     "text": [
      "What is your name?  Noreen\n"
     ]
    },
    {
     "name": "stdout",
     "output_type": "stream",
     "text": [
      "Hello, Noreen!\n"
     ]
    }
   ],
   "source": [
    "# Define a function that asks for the user's name and prints a greeting\n",
    "def say_hello():\n",
    "    name = input(\"What is your name? \")\n",
    "    print(\"Hello, \" + name + \"!\")\n",
    "# Call the function\n",
    "say_hello()"
   ]
  },
  {
   "cell_type": "markdown",
   "id": "9da0c9fb-aa16-4fb3-b0ca-4bbd8453c7ce",
   "metadata": {},
   "source": [
    "**What I learned:**\n",
    "This version of the function makes the code interactive — the program now communicates with the user directly. I learned that `input()` stops the program and waits for the user to type something, and that the result is always a string. Because the function gathers the name inside itself, I didn’t have to pass a parameter — which helped me understand the idea of *local variables*. "
   ]
  },
  {
   "cell_type": "markdown",
   "id": "3c823e73-7ffb-4c6d-a57f-8f74e2b6b326",
   "metadata": {},
   "source": [
    "**Suggest Prompt:**\n",
    ">“Would you like to expand this to ask for more details, like age or favorite color, and include them in the greeting?”"
   ]
  },
  {
   "cell_type": "markdown",
   "id": "968267c8-151c-4467-bcde-12e242c7078d",
   "metadata": {},
   "source": [
    "**Follow-on Prompt:**\n",
    ">\"Could you expand the previous say_hello() function so that it asks the user for more details, such as their name, age, and favorite color, and then prints a personalized greeting using all that information? Please explain the code step-by-step for a complete beginner, describe how multiple inputs are stored in different variables, and show how string concatenation or f-strings can combine them into one message.\""
   ]
  },
  {
   "cell_type": "markdown",
   "id": "b46c714c-3d4e-4b6d-90e4-45aa83049540",
   "metadata": {},
   "source": [
    "**Response Summary:**  \n",
    "- Created an updated version of `say_hello()` that collects **three inputs**: name, age, and favorite color.  \n",
    "- Explained that each `input()` prompt saves the user’s answer in a different variable.  \n",
    "- Clarified that `input()` always returns a **string**, so no conversion is needed unless performing arithmetic.  \n",
    "- Demonstrated how **f-strings** make it easy to combine variables in a single, readable output line.  \n",
    "- Highlighted that the function doesn’t require parameters because all data is collected inside the function.  "
   ]
  },
  {
   "cell_type": "markdown",
   "id": "bb68bff2-ccc5-4242-8a8d-0b556e4da7a6",
   "metadata": {},
   "source": [
    "**Example Code**"
   ]
  },
  {
   "cell_type": "code",
   "execution_count": 1,
   "id": "4b4725a3-bdb5-4c6a-911a-cf841000e2e2",
   "metadata": {},
   "outputs": [
    {
     "name": "stdin",
     "output_type": "stream",
     "text": [
      "What is your name?  Noreen\n",
      "How old are you?  20\n",
      "What is your favorite color?  pink\n"
     ]
    },
    {
     "name": "stdout",
     "output_type": "stream",
     "text": [
      "Hello, Noreen! You are 20 years old and your favorite color is pink.\n"
     ]
    }
   ],
   "source": [
    "# Define a function that asks for multiple details and prints a personalized greeting\n",
    "def say_hello():\n",
    "    name = input(\"What is your name? \")\n",
    "    age = input(\"How old are you? \")\n",
    "    color = input(\"What is your favorite color? \")\n",
    "\n",
    "    # Print a personalized message using f-strings\n",
    "    print(f\"Hello, {name}! You are {age} years old and your favorite color is {color}.\")\n",
    "\n",
    "say_hello()"
   ]
  },
  {
   "cell_type": "markdown",
   "id": "6c1600f9-be8b-40ad-b70d-b7153e7c7c15",
   "metadata": {},
   "source": [
    "**What I learned:**\n",
    "This was the most interactive function so far.  \n",
    "I learned that a single function can collect several pieces of information and combine them into a single meaningful message. Using f-strings made the output clear and friendly, and I can now see how functions can handle more complex, human-like interactions."
   ]
  },
  {
   "cell_type": "markdown",
   "id": "59b294c9-1ed6-4f07-a698-46ae2fb26b1c",
   "metadata": {},
   "source": [
    "## Loop\n",
    "**Initial Prompt:** \n",
    ">“Could you suggest a modification of the Python code for “Hello, world!” to demonstrate the concept of loops to a complete beginner in programming? Please explain the code step-by-step highlighting any key aspects.”"
   ]
  },
  {
   "cell_type": "markdown",
   "id": "f37d098c-99d6-4380-891b-24cfe1d74e78",
   "metadata": {},
   "source": [
    "**Response Summary:**  \n",
    "- Created a simple `for` loop that prints “Hello, world!” five times.  \n",
    "- Explained that `for i in range(5)` repeats a block of code 5 times, using numbers 0–4.  \n",
    "- Clarified that `i` is a **loop variable**, taking each value in sequence.  \n",
    "- Highlighted that **indentation** shows which code lines belong to the loop.  \n",
    "- Emphasised how loops prevent repetitive typing and make code efficient."
   ]
  },
  {
   "cell_type": "markdown",
   "id": "81a67fd9-42f6-4c26-b0b2-7e794923d9f8",
   "metadata": {},
   "source": [
    "**Example Code**"
   ]
  },
  {
   "cell_type": "code",
   "execution_count": 2,
   "id": "95976f44-78a6-4dab-ac36-d4e774d78418",
   "metadata": {},
   "outputs": [
    {
     "name": "stdout",
     "output_type": "stream",
     "text": [
      "Hello, world!\n",
      "Hello, world!\n",
      "Hello, world!\n",
      "Hello, world!\n",
      "Hello, world!\n"
     ]
    }
   ],
   "source": [
    "# Use a loop to print \"Hello, world!\" five times\n",
    "for i in range(5):\n",
    "    print(\"Hello, world!\")"
   ]
  },
  {
   "cell_type": "markdown",
   "id": "11ef415e-3caa-4891-bbca-704ee284f5ee",
   "metadata": {},
   "source": [
    "**What I learned:**\n",
    "Loops are a way to automate repetition. Instead of writing the same line several times, I can make the computer handle the repetition for me. At first, I didn’t realise that `range(5)` starts from 0, so the loop actually runs five times (0–4).  "
   ]
  },
  {
   "cell_type": "markdown",
   "id": "d5f2647c-7dab-40d8-96f0-04f09445d11e",
   "metadata": {},
   "source": [
    "**Suggest Prompt:**\n",
    ">“Would you like to try a version where the user chooses how many times to print the message?”"
   ]
  },
  {
   "cell_type": "markdown",
   "id": "a8776513-2be6-4d0f-a08d-12cb6b8904ca",
   "metadata": {},
   "source": [
    "**Follow-on Prompt:**\n",
    ">\"Could you modify the previous loop example so that the user can choose how many times to print \"Hello, world!\"? Please explain the code step-by-step for a complete beginner, describe how input() works with numbers, and show how to convert the user’s input from a string to an integer before using it in range().\""
   ]
  },
  {
   "cell_type": "markdown",
   "id": "368e3845-cce8-4262-993b-dbd94d486991",
   "metadata": {},
   "source": [
    "**Response Summary:**  \n",
    "- Added an `input()` statement to ask the user how many times to print the message.  \n",
    "- Explained that `input()` always returns a **string**, even when the user types a number.  \n",
    "- Used `int()` to convert that string into an integer before passing it into `range()`.  \n",
    "- Described how `range(count)` runs the loop the specified number of times.  \n",
    "- Emphasised that combining `input()` with `range()` makes the code interactive and flexible.  "
   ]
  },
  {
   "cell_type": "markdown",
   "id": "a379f2d2-3254-4888-9645-91348b6e3538",
   "metadata": {},
   "source": [
    "**Example Code**"
   ]
  },
  {
   "cell_type": "code",
   "execution_count": 4,
   "id": "e03134a0-ff67-44f0-81e8-a8848cc4ad33",
   "metadata": {},
   "outputs": [
    {
     "name": "stdin",
     "output_type": "stream",
     "text": [
      "How many times should I print 'Hello, world!'?  4\n"
     ]
    },
    {
     "ename": "TypeError",
     "evalue": "'str' object cannot be interpreted as an integer",
     "output_type": "error",
     "traceback": [
      "\u001b[31m---------------------------------------------------------------------------\u001b[39m",
      "\u001b[31mTypeError\u001b[39m                                 Traceback (most recent call last)",
      "\u001b[36mCell\u001b[39m\u001b[36m \u001b[39m\u001b[32mIn[4]\u001b[39m\u001b[32m, line 4\u001b[39m\n\u001b[32m      2\u001b[39m count = \u001b[38;5;28minput\u001b[39m(\u001b[33m\"\u001b[39m\u001b[33mHow many times should I print \u001b[39m\u001b[33m'\u001b[39m\u001b[33mHello, world!\u001b[39m\u001b[33m'\u001b[39m\u001b[33m? \u001b[39m\u001b[33m\"\u001b[39m)\n\u001b[32m      3\u001b[39m \u001b[38;5;66;03m# Use a loop to print the message\u001b[39;00m\n\u001b[32m----> \u001b[39m\u001b[32m4\u001b[39m \u001b[38;5;28;01mfor\u001b[39;00m i \u001b[38;5;129;01min\u001b[39;00m \u001b[38;5;28;43mrange\u001b[39;49m\u001b[43m(\u001b[49m\u001b[43mcount\u001b[49m\u001b[43m)\u001b[49m:\n\u001b[32m      5\u001b[39m     \u001b[38;5;28mprint\u001b[39m(\u001b[33m\"\u001b[39m\u001b[33mHello, world!\u001b[39m\u001b[33m\"\u001b[39m)\n",
      "\u001b[31mTypeError\u001b[39m: 'str' object cannot be interpreted as an integer"
     ]
    }
   ],
   "source": [
    "# Ask the user how many times to print the message\n",
    "count = input(\"How many times should I print 'Hello, world!'? \")\n",
    "# Use a loop to print the message\n",
    "for i in range(count):\n",
    "    print(\"Hello, world!\")"
   ]
  },
  {
   "cell_type": "markdown",
   "id": "2bd69229-40db-46e8-aa69-d910818836b1",
   "metadata": {},
   "source": [
    "**How to fix?**"
   ]
  },
  {
   "cell_type": "code",
   "execution_count": 5,
   "id": "1d565b68-7f3c-4657-aad5-e413d9c03c6a",
   "metadata": {},
   "outputs": [
    {
     "name": "stdin",
     "output_type": "stream",
     "text": [
      "How many times should I print 'Hello, world!'?  4\n"
     ]
    },
    {
     "name": "stdout",
     "output_type": "stream",
     "text": [
      "Hello, world!\n",
      "Hello, world!\n",
      "Hello, world!\n",
      "Hello, world!\n"
     ]
    }
   ],
   "source": [
    "# Ask the user how many times to print the message\n",
    "count = input(\"How many times should I print 'Hello, world!'? \")\n",
    "# Convert the input from string to integer\n",
    "count = int(count)\n",
    "# Use a loop to print the message\n",
    "for i in range(count):\n",
    "    print(\"Hello, world!\")"
   ]
  },
  {
   "cell_type": "markdown",
   "id": "5e39b60a-f85b-42ff-ae39-6db5f72b10f7",
   "metadata": {},
   "source": [
    "**What I learned:**\n",
    "This small change made the loop feel interactive — now the user decides how many times to run it.  \n",
    "I learned that `input()` always gives a string, and that’s why the program needs `int()` before using it in `range()`.  \n",
    "At first, I forgot the conversion and got a TypeError, which actually helped me understand why data types matter.  \n",
    "Once I fixed it, the loop worked perfectly and printed the message as many times as I wanted.  "
   ]
  },
  {
   "cell_type": "markdown",
   "id": "7a37fcf6-8a07-40e7-9fc6-2751d85eae63",
   "metadata": {},
   "source": [
    "## List\n",
    "**Initial Prompt:**\n",
    ">“Could you suggest a modification of the Python code for “Hello, world!” to demonstrate the concept of lists to a complete beginner in programming? Please explain the code step-by-step highlighting any key aspects.”"
   ]
  },
  {
   "cell_type": "markdown",
   "id": "3edb2d09-65af-4a32-8286-75f091565688",
   "metadata": {},
   "source": [
    "**Response Summary:**  \n",
    "- Introduced a **list** to store multiple messages using square brackets `[]`.  \n",
    "- Explained that each element is separated by a comma, and all are stored under one variable.  \n",
    "- Used a **for loop** (`for message in messages:`) to print each item in the list.  \n",
    "- Clarified that `message` acts as a temporary variable that changes on each loop iteration.  \n",
    "- Highlighted that lists make code tidy, readable, and easy to extend with new items.  "
   ]
  },
  {
   "cell_type": "markdown",
   "id": "d7716d46-70fc-47d6-8697-46e012713c8f",
   "metadata": {},
   "source": [
    "**Example Code**"
   ]
  },
  {
   "cell_type": "code",
   "execution_count": 7,
   "id": "2e65673e-5f2c-4a23-a78e-c12ee2f03f56",
   "metadata": {},
   "outputs": [
    {
     "name": "stdout",
     "output_type": "stream",
     "text": [
      "Hello, world!\n",
      "Hi there!\n",
      "Greetings!\n",
      "Welcome!\n",
      "Hey!\n"
     ]
    }
   ],
   "source": [
    "# Create a list of messages\n",
    "messages = [\"Hello, world!\", \"Hi there!\", \"Greetings!\", \"Welcome!\", \"Hey!\"]\n",
    "\n",
    "# Use a loop to print each message in the list\n",
    "for message in messages:\n",
    "    print(message)"
   ]
  },
  {
   "cell_type": "markdown",
   "id": "062480dd-c57f-4b11-9928-66eea4dc4409",
   "metadata": {},
   "source": [
    "**What I learned:**\n",
    "This exercise showed me how to store several values together instead of using multiple separate variables.  \n",
    "I found it intuitive that lists use square brackets and commas, almost like a simple container for text or numbers.  \n",
    "Using a loop to print each message made me realise how loops and lists work perfectly together — one provides repetition, the other provides data.  "
   ]
  },
  {
   "cell_type": "markdown",
   "id": "e4b33399-331c-4fa2-a339-d428e228717d",
   "metadata": {},
   "source": [
    "**Suggest Prompt:**\n",
    ">“Would you like to try a version where the user can add their own messages to the list before printing them?”"
   ]
  },
  {
   "cell_type": "markdown",
   "id": "64b04ddb-b8f8-4cd8-a752-6f6666f92ee7",
   "metadata": {},
   "source": [
    "**Follow-on Prompt:**\n",
    ">\"Could you modify the previous list example so that the user can add their own messages to the list before printing them? Please include step-by-step explanations for a complete beginner. Explain how append() works, how to use a loop to collect multiple inputs, and then print the final list of messages.\""
   ]
  },
  {
   "cell_type": "markdown",
   "id": "fba5983f-a565-4fbe-9ca4-ba4d1aa79c2b",
   "metadata": {},
   "source": [
    "**Response Summary:**  \n",
    "- Created an **empty list** called `messages` to store user input.  \n",
    "- Asked the user how many messages they want to enter, and converted that input to an integer with `int()`.  \n",
    "- Used a **for loop** to collect each message using `input()` and added it to the list with `.append()`.  \n",
    "- Printed all messages at the end using another loop.  \n",
    "- Explained that `.append()` adds each new item to the end of the list, and that combining loops with lists enables dynamic data collection.  "
   ]
  },
  {
   "cell_type": "markdown",
   "id": "e75b007a-ccae-443a-91e9-475ea98612ac",
   "metadata": {},
   "source": [
    "**Example Code**"
   ]
  },
  {
   "cell_type": "code",
   "execution_count": 8,
   "id": "94a67ce4-2c8c-4ed3-8210-f1eb4d566069",
   "metadata": {},
   "outputs": [
    {
     "name": "stdin",
     "output_type": "stream",
     "text": [
      "How many messages would you like to enter?  5\n",
      "Enter message 1:  1\n",
      "Enter message 2:  2\n",
      "Enter message 3:  3\n",
      "Enter message 4:  4\n",
      "Enter message 5:  5\n"
     ]
    },
    {
     "name": "stdout",
     "output_type": "stream",
     "text": [
      "\n",
      "Here are your messages:\n",
      "1\n",
      "2\n",
      "3\n",
      "4\n",
      "5\n"
     ]
    }
   ],
   "source": [
    "# Create an empty list to store messages\n",
    "messages = []\n",
    "\n",
    "# Ask the user how many messages they want to add\n",
    "count = int(input(\"How many messages would you like to enter? \"))\n",
    "\n",
    "# Use a loop to collect messages\n",
    "for i in range(count):\n",
    "    message = input(f\"Enter message {i + 1}: \")\n",
    "    messages.append(message)  # Add the message to the list\n",
    "\n",
    "# Print all the messages\n",
    "print(\"\\nHere are your messages:\")\n",
    "for msg in messages:\n",
    "    print(msg)"
   ]
  },
  {
   "cell_type": "markdown",
   "id": "238e87ac-30ed-4700-b607-41dc74344596",
   "metadata": {},
   "source": [
    "**What I learned:**\n",
    "I learned how an empty list can grow dynamically as new items are added with `.append()`.  \n",
    "The loop that collects messages made the code feel structured and efficient — I didn’t have to repeat any lines.  "
   ]
  },
  {
   "cell_type": "markdown",
   "id": "6916c1ca-51b8-4725-971c-4ec2a0a6263b",
   "metadata": {},
   "source": [
    "## Dictionary\n",
    "**Initial Prompt:**\n",
    ">\"Could yousuggest a modification of the Python code for “Hello, world!” to demonstrate the concept of dictionaries to a complete beginner in programming? Please explain the code step-by-step highlighting any key aspects.\""
   ]
  },
  {
   "cell_type": "markdown",
   "id": "a6d81528-057e-4226-be75-be26883b34a4",
   "metadata": {},
   "source": [
    "**Response Summary:**  \n",
    "- Introduced a **dictionary** structure that stores greetings in different languages using **key-value pairs**.  \n",
    "- Explained that keys (like `\"English\"`) are linked to values (like `\"Hello, world!\"`) and enclosed in `{}` with a colon `:` between them.  \n",
    "- Used a **for loop** with `.items()` to iterate through both the key and value at once.  \n",
    "- Demonstrated how to print the language and corresponding greeting using string concatenation.  \n",
    "- Highlighted that dictionaries are ideal for organized, labeled data — such as translations, profiles, or settings.  "
   ]
  },
  {
   "cell_type": "markdown",
   "id": "9e92e961-fee6-46cb-8e56-6073807858d6",
   "metadata": {},
   "source": [
    "**Example Code**"
   ]
  },
  {
   "cell_type": "code",
   "execution_count": 1,
   "id": "77630655-4b20-49f6-8b0b-f63e7b6c88f7",
   "metadata": {},
   "outputs": [
    {
     "name": "stdout",
     "output_type": "stream",
     "text": [
      "English: Hello, world!\n",
      "Spanish: ¡Hola, mundo!\n",
      "French: Bonjour, le monde!\n",
      "German: Hallo, Welt!\n",
      "Japanese: こんにちは、世界！\n"
     ]
    }
   ],
   "source": [
    "# Create a dictionary with greetings in different languages\n",
    "greetings = {\n",
    "    \"English\": \"Hello, world!\",\n",
    "    \"Spanish\": \"¡Hola, mundo!\",\n",
    "    \"French\": \"Bonjour, le monde!\",\n",
    "    \"German\": \"Hallo, Welt!\",\n",
    "    \"Japanese\": \"こんにちは、世界！\"\n",
    "}\n",
    "\n",
    "# Use a loop to print each greeting with its language\n",
    "for language, message in greetings.items():\n",
    "    print(language + \": \" + message)"
   ]
  },
  {
   "cell_type": "markdown",
   "id": "3f6e8a5b-caf8-4fda-bbe2-2e022bb9e591",
   "metadata": {},
   "source": [
    "**What I learned:**\n",
    "This task helped me understand the difference between lists and dictionaries.  \n",
    "While lists store items by position, dictionaries store them by labels (keys), which makes the data easier to interpret.  \n",
    "I found the `.items()` method intuitive because it lets me access both the key and the value in one line.  "
   ]
  },
  {
   "cell_type": "markdown",
   "id": "fd0d2125-9fcc-489b-8179-aa914f9d47ba",
   "metadata": {},
   "source": [
    "**Suggest Prompt:**\n",
    ">“Would you like to try a version where the user can add their own greetings to the dictionary?”"
   ]
  },
  {
   "cell_type": "markdown",
   "id": "81a538ea-bb70-41f3-b27e-71d1543e8395",
   "metadata": {},
   "source": [
    "**Follow-on Prompt:**\n",
    ">\"Could you modify the previous dictionary example so that the user can add their own greetings? Please include step-by-step explanations for a complete beginner. Explain how to use input() to collect both a language and a greeting, how to add them as a key–value pair using dictionary syntax, and then print the updated dictionary of greetings.\""
   ]
  },
  {
   "cell_type": "markdown",
   "id": "c3114f01-4feb-4a82-b576-e2eb40ebeb69",
   "metadata": {},
   "source": [
    "**Response Summary:**  \n",
    "- Created an **empty dictionary** called `greetings` to store the user’s data.  \n",
    "- Added an `input()` prompt to ask how many greetings to add, and used `int()` to convert the number for looping.  \n",
    "- Used a **for loop** to collect both the language (key) and the greeting (value) from the user.  \n",
    "- Explained that `greetings[language] = message` adds a new key–value pair to the dictionary.  \n",
    "- Used `.items()` to print the final dictionary in a readable format. "
   ]
  },
  {
   "cell_type": "markdown",
   "id": "fdc7c285-a20f-44ac-871a-8f4567079f24",
   "metadata": {},
   "source": [
    "**Example Code**"
   ]
  },
  {
   "cell_type": "code",
   "execution_count": 2,
   "id": "202e43e6-7b19-4e6e-8ca8-af7bff4c1c7d",
   "metadata": {},
   "outputs": [
    {
     "name": "stdin",
     "output_type": "stream",
     "text": [
      "How many greetings would you like to add?  3\n",
      "Enter language 1:  english\n",
      "Enter greeting in english:  Hello,world\n",
      "Enter language 2:  chinese\n",
      "Enter greeting in chinese:  你好，世界\n",
      "Enter language 3:  Italian\n",
      "Enter greeting in Italian:  Ciao, mondo!\n"
     ]
    },
    {
     "name": "stdout",
     "output_type": "stream",
     "text": [
      "\n",
      "Your greetings dictionary:\n",
      "english: Hello,world\n",
      "chinese: 你好，世界\n",
      "Italian: Ciao, mondo!\n"
     ]
    }
   ],
   "source": [
    "# Start with an empty dictionary\n",
    "greetings = {}\n",
    "\n",
    "# Ask the user how many greetings they want to add\n",
    "count = int(input(\"How many greetings would you like to add? \"))\n",
    "\n",
    "# Use a loop to collect greetings\n",
    "for i in range(count):\n",
    "    language = input(f\"Enter language {i + 1}: \")\n",
    "    message = input(f\"Enter greeting in {language}: \")\n",
    "    greetings[language] = message  # Add key–value pair to the dictionary\n",
    "\n",
    "# Print the updated dictionary\n",
    "print(\"\\nYour greetings dictionary:\")\n",
    "for lang, greet in greetings.items():\n",
    "    print(lang + \": \" + greet)"
   ]
  },
  {
   "cell_type": "markdown",
   "id": "b1907165-6928-4a35-bfb1-1059ed101061",
   "metadata": {},
   "source": [
    "**What I learned:**\n",
    "I learned that a dictionary can start empty and be filled as the user adds key–value pairs.  \n",
    "The syntax `dictionary[key] = value` felt very intuitive — it’s like labeling information in real life.  \n",
    "I also realised how easily the program can scale: I can add as many greetings as I want without changing the structure.  "
   ]
  },
  {
   "cell_type": "markdown",
   "id": "a0db1f7f-cf42-4e80-9ff8-0ec059115c60",
   "metadata": {},
   "source": [
    "## Array\n",
    "**Initial Prompt:**\n",
    ">\"Could you suggest a modification of the Python code for “Hello, world!” to demonstrate the concept of arrays to a complete beginner in programming? Please explain the code step-by-step highlighting any key aspects.\""
   ]
  },
  {
   "cell_type": "markdown",
   "id": "e9085f71-1a1b-485f-b252-d8fb4fb80941",
   "metadata": {},
   "source": [
    "**Response Summary:**  \n",
    "- Explained that Python doesn’t have built-in arrays like some languages, but lists serve the same purpose.  \n",
    "- Created a list called `greetings` with multiple strings representing messages.  \n",
    "- Used `range(len(greetings))` to loop through indices and access elements by position.  \n",
    "- Clarified how indexing starts at 0 and each element can be printed using its index (`greetings[i]`).  \n",
    "- Highlighted that lists (arrays) make it easy to store and process many items in order.  "
   ]
  },
  {
   "cell_type": "markdown",
   "id": "003bf200-4072-4b64-93a2-1bbfc831adfe",
   "metadata": {},
   "source": [
    "**Example Code**"
   ]
  },
  {
   "cell_type": "code",
   "execution_count": 3,
   "id": "52e3df10-f6ba-4834-804f-7cdbda9a56bb",
   "metadata": {},
   "outputs": [
    {
     "name": "stdout",
     "output_type": "stream",
     "text": [
      "Hello, world!\n",
      "Hi there!\n",
      "Greetings!\n",
      "Welcome!\n",
      "Hey!\n"
     ]
    }
   ],
   "source": [
    "# Create a list (array) of greetings\n",
    "greetings = [\"Hello, world!\", \"Hi there!\", \"Greetings!\", \"Welcome!\", \"Hey!\"]\n",
    "\n",
    "# Use a loop to print each greeting\n",
    "for i in range(len(greetings)):\n",
    "    print(greetings[i])"
   ]
  },
  {
   "cell_type": "markdown",
   "id": "7ddfb2dd-f9a0-4380-b4cd-dc8ee7b3266d",
   "metadata": {},
   "source": [
    "**What I learned:**\n",
    "I learned that arrays and lists are basically the same idea in Python — both store multiple items together.  \n",
    "The `range(len(greetings))` loop helped me understand how indexing works and how to access each element one by one.  \n",
    "It was interesting to see that counting starts from 0, which can be confusing at first but makes sense for computer logic.  \n",
    "I also realised that using indices gives me more control, especially when I need to modify or access specific items later."
   ]
  },
  {
   "cell_type": "markdown",
   "id": "98450008-2247-4c87-b67c-96db95a59bd6",
   "metadata": {},
   "source": [
    "**Suggest Prompt:**\n",
    ">“Would you like to explore how to add or remove items from this list, or how to sort and search through it?”"
   ]
  },
  {
   "cell_type": "markdown",
   "id": "b35ddb04-ab14-420e-aab2-fe7266b9139b",
   "metadata": {},
   "source": [
    "**Follow-on Prompt:**\n",
    ">\"Could you modify the previous array (list) example to show how to add, remove, sort, and search items in the list? Please include step-by-step explanations for a complete beginner. Demonstrate how to use append(), remove(), sort(), and the in keyword to check if an item exists in the list, and then print the updated list after each operation.\""
   ]
  },
  {
   "cell_type": "markdown",
   "id": "60d50303-4015-4584-8f90-0b4bb6d57d70",
   "metadata": {},
   "source": [
    "**Response Summary:**  \n",
    "- Created a simple list of greetings (`[\"Hello\", \"Hi\", \"Hey\"]`).  \n",
    "- Used `.append()` to add a new item (“Greetings”) to the end of the list.  \n",
    "- Demonstrated `.remove()` to delete an existing item (“Hi”) from the list.  \n",
    "- Applied `.sort()` to arrange the list alphabetically.  \n",
    "- Used the `in` keyword to search for an item (“Hello”) and print whether it exists.  \n",
    "- Explained that each operation modifies the list directly and helps manage collections of data easily.  "
   ]
  },
  {
   "cell_type": "markdown",
   "id": "7a3acab2-a684-4cb0-a9d0-07041a5e1033",
   "metadata": {},
   "source": [
    "**Example Code**"
   ]
  },
  {
   "cell_type": "code",
   "execution_count": 5,
   "id": "a296854c-f74e-4ad7-9dbb-5fbbeba3e96b",
   "metadata": {},
   "outputs": [
    {
     "name": "stdout",
     "output_type": "stream",
     "text": [
      "Original list: ['Hello', 'Hi', 'Hey']\n",
      "After append: ['Hello', 'Hi', 'Hey', 'Greetings']\n",
      "After remove: ['Hello', 'Hey', 'Greetings']\n",
      "After sort: ['Greetings', 'Hello', 'Hey']\n",
      "'Hello' is in the list.\n"
     ]
    }
   ],
   "source": [
    "# Start with a list of greetings\n",
    "greetings = [\"Hello\", \"Hi\", \"Hey\"]\n",
    "\n",
    "# Print the original list\n",
    "print(\"Original list:\", greetings)\n",
    "\n",
    "# Add a new greeting\n",
    "greetings.append(\"Greetings\")\n",
    "print(\"After append:\", greetings)\n",
    "\n",
    "# Remove a greeting\n",
    "greetings.remove(\"Hi\")\n",
    "print(\"After remove:\", greetings)\n",
    "\n",
    "# Sort the list alphabetically\n",
    "greetings.sort()\n",
    "print(\"After sort:\", greetings)\n",
    "\n",
    "# Search for a greeting\n",
    "search_term = \"Hello\"\n",
    "if search_term in greetings:\n",
    "    print(f\"'{search_term}' is in the list.\")\n",
    "else:\n",
    "    print(f\"'{search_term}' is not in the list.\")"
   ]
  },
  {
   "cell_type": "markdown",
   "id": "22e5484b-60f0-4fe3-aab3-d118f45f0f03",
   "metadata": {},
   "source": [
    "**What I learned:**\n",
    "This exercise helped me understand how to actively manage data in a list.  \n",
    "I learned how `.append()` and `.remove()` can change the size of a list, and that `.sort()` instantly reorganises the items alphabetically.  \n",
    "Using the `in` keyword felt almost like asking a question in English, which made Python’s syntax easy to read.  "
   ]
  },
  {
   "cell_type": "markdown",
   "id": "fd09efc9-8dff-4c23-ac35-1a99b13e6477",
   "metadata": {},
   "source": [
    "## Importing Libraries\n",
    "**Initial Prompt:**\n",
    ">\" Could you suggest a modification of the Python code for “Hello, world!” to demonstrate the concept of importing libraries to a complete beginner in programming? Please explain the code step-by-step highlighting any key aspects.\""
   ]
  },
  {
   "cell_type": "markdown",
   "id": "9a300cac-0600-4b17-84d0-61270d848e01",
   "metadata": {},
   "source": [
    "**Response Summary:**  \n",
    "- Introduced the `import` keyword to bring in pre-built Python libraries.  \n",
    "- Used the `time` library to slow down the printing of “Hello, world!” letter by letter.  \n",
    "- Explained that `time.sleep(0.2)` pauses the program for 0.2 seconds between characters.  \n",
    "- Described how `end=''` in `print()` prevents a newline after each letter, and `flush=True` forces immediate output.  \n",
    "- Emphasised that importing libraries extends Python’s functionality without having to write complex code from scratch.  "
   ]
  },
  {
   "cell_type": "markdown",
   "id": "5bb95ba1-f3a8-4eb0-b244-626595ed2a5d",
   "metadata": {},
   "source": [
    "**Example Code**"
   ]
  },
  {
   "cell_type": "code",
   "execution_count": 7,
   "id": "b23c7f6e-c7a6-4ef8-b30b-37c5eb8d35e5",
   "metadata": {},
   "outputs": [
    {
     "name": "stdout",
     "output_type": "stream",
     "text": [
      "Hello, world!"
     ]
    }
   ],
   "source": [
    "# Import the time library\n",
    "import time\n",
    "\n",
    "# Print \"Hello, world!\" with a delay between each letter\n",
    "for letter in \"Hello, world!\":\n",
    "    print(letter, end='', flush=True)\n",
    "    time.sleep(0.2)  # Pause for 0.2 seconds between letters"
   ]
  },
  {
   "cell_type": "markdown",
   "id": "da1cae81-d689-4b66-91eb-558ffea38470",
   "metadata": {},
   "source": [
    "**What I learned:**\n",
    "This was my first time using an external library in Python.  \n",
    "I learned that libraries are like plug-ins — they provide extra features that I can easily import and use.  \n",
    "The `time` library was simple but powerful: it let me add a delay between letters and made the program feel animated.  "
   ]
  },
  {
   "cell_type": "markdown",
   "id": "9d2635be-15e5-4d6b-a0af-b902c66fa89d",
   "metadata": {},
   "source": [
    "**Suggest Prompt:**\n",
    ">“Would you like to explore other libraries like random or math next, or try creating your own custom module?”"
   ]
  },
  {
   "cell_type": "markdown",
   "id": "2539b033-bbe9-4e3f-9600-be2d714dee11",
   "metadata": {},
   "source": [
    "**Follow-on Prompt:**\n",
    ">\"Could you show how to use two other Python libraries — random and math — to modify the “Hello, world!” example? Please include step-by-step explanations for a complete beginner. Demonstrate how to use random.choice() to pick a random greeting from a list, and math.sqrt() to calculate and print the square root of a number. Explain what each library does and why importing them is useful.\""
   ]
  },
  {
   "cell_type": "markdown",
   "id": "5a0818c0-fd46-44eb-bf08-710d23e5e2ed",
   "metadata": {},
   "source": [
    "**Example Code**"
   ]
  },
  {
   "cell_type": "code",
   "execution_count": 8,
   "id": "a10b72b0-1bf2-4243-8ac6-ef61a4935cbe",
   "metadata": {},
   "outputs": [
    {
     "name": "stdout",
     "output_type": "stream",
     "text": [
      "Random greeting: Hey!\n",
      "The square root of 16 is 4.0\n"
     ]
    }
   ],
   "source": [
    "# Import the libraries\n",
    "import random\n",
    "import math\n",
    "\n",
    "# Create a list of greetings\n",
    "greetings = [\"Hello, world!\", \"Hi there!\", \"Greetings!\", \"Welcome!\", \"Hey!\"]\n",
    "\n",
    "# Use random.choice() to pick one greeting\n",
    "chosen_greeting = random.choice(greetings)\n",
    "print(\"Random greeting:\", chosen_greeting)\n",
    "\n",
    "# Use math.sqrt() to calculate the square root of a number\n",
    "number = 16\n",
    "square_root = math.sqrt(number)\n",
    "print(\"The square root of\", number, \"is\", square_root)"
   ]
  },
  {
   "cell_type": "markdown",
   "id": "2dec3abb-572a-4bee-832c-370e3f95c27d",
   "metadata": {},
   "source": [
    "**What I learned:**\n",
    "This task helped me understand how importing libraries can make my code much more capable.  \n",
    "The `random` library made my output unpredictable and fun, while `math` allowed me to perform accurate calculations instantly. "
   ]
  },
  {
   "cell_type": "markdown",
   "id": "f1f6eff5-79fd-4f7c-8d41-a6d53134bc29",
   "metadata": {},
   "source": [
    "**Suggest Prompt:**\n",
    ">“Would you like to try a version where the user enters the number for the square root or adds their own greetings to the list?”"
   ]
  },
  {
   "cell_type": "markdown",
   "id": "3ce82dba-d073-43f5-98be-edc948aef493",
   "metadata": {},
   "source": [
    "**Follow-on Prompt:**\n",
    ">\"Could you modify the previous example using the random and math libraries so that the user can interact with the program? Please include step-by-step explanations for a complete beginner. The program should:\n",
    ">1. Ask the user to enter several greetings, store them in a list, and use random.choice() to print one at random.\n",
    ">2. Ask the user to enter a number and then use math.sqrt() to calculate and display its square root.\n",
    "Explain how input() works with lists and numbers, and how type conversion with int() or float() is used."
   ]
  },
  {
   "cell_type": "markdown",
   "id": "2a52546a-d72f-4e26-a296-826f5a5607f3",
   "metadata": {},
   "source": [
    "**Response Summary:**  \n",
    "- Built an interactive program that combines `random` and `math`.  \n",
    "- Asked the user how many greetings they wanted to enter, stored them in a list, and used `random.choice()` to pick one at random.  \n",
    "- Requested a number from the user and used `math.sqrt()` to calculate its square root.  \n",
    "- Explained the use of `input()` for collecting user data, and `int()`/`float()` for converting types.  \n",
    "- Highlighted how libraries, loops, and user input can work together to make a fun, dynamic program.  "
   ]
  },
  {
   "cell_type": "markdown",
   "id": "50d2a423-95fa-4ae7-9811-6e8ce1d2399c",
   "metadata": {},
   "source": [
    "**Example Code**"
   ]
  },
  {
   "cell_type": "code",
   "execution_count": 9,
   "id": "ccdcab1a-057d-4738-abfa-7c31f0d177ac",
   "metadata": {},
   "outputs": [
    {
     "name": "stdin",
     "output_type": "stream",
     "text": [
      "How many greetings would you like to enter?  2\n",
      "Enter greeting 1:  Hellow\n",
      "Enter greeting 2:  你好\n"
     ]
    },
    {
     "name": "stdout",
     "output_type": "stream",
     "text": [
      "\n",
      "Randomly selected greeting: 你好\n"
     ]
    },
    {
     "name": "stdin",
     "output_type": "stream",
     "text": [
      "\n",
      "Enter a number to calculate its square root:  5\n"
     ]
    },
    {
     "name": "stdout",
     "output_type": "stream",
     "text": [
      "The square root of 5.0 is 2.23606797749979\n"
     ]
    }
   ],
   "source": [
    "import random\n",
    "import math\n",
    "\n",
    "# Step 1: Ask the user how many greetings they want to enter\n",
    "count = int(input(\"How many greetings would you like to enter? \"))\n",
    "\n",
    "# Step 2: Create an empty list to store greetings\n",
    "greetings = []\n",
    "\n",
    "# Step 3: Use a loop to collect greetings\n",
    "for i in range(count):\n",
    "    greeting = input(f\"Enter greeting {i + 1}: \")\n",
    "    greetings.append(greeting)\n",
    "\n",
    "# Step 4: Use random.choice() to pick one greeting\n",
    "chosen_greeting = random.choice(greetings)\n",
    "print(\"\\nRandomly selected greeting:\", chosen_greeting)\n",
    "\n",
    "# Step 5: Ask the user to enter a number\n",
    "number_input = input(\"\\nEnter a number to calculate its square root: \")\n",
    "\n",
    "# Step 6: Convert input to float and use math.sqrt()\n",
    "number = float(number_input)\n",
    "square_root = math.sqrt(number)\n",
    "print(\"The square root of\", number, \"is\", square_root)"
   ]
  },
  {
   "cell_type": "markdown",
   "id": "e729d3fb-958b-4cb3-a2b7-a0124d6e652a",
   "metadata": {},
   "source": [
    "**What I learned:**\n",
    "This exercise felt like a real program that interacts with people.  \n",
    "I learned how to combine user input, loops, and libraries to make something dynamic and personalised.  \n",
    "`random.choice()` made the program unpredictable, while `math.sqrt()` showed the precision of mathematical functions.  \n",
    "I also learned that type conversion (`int()` and `float()`) is essential — without it, math operations wouldn’t work correctly."
   ]
  },
  {
   "cell_type": "markdown",
   "id": "c1e73299-ebde-430b-88e3-fe44ef0f58b9",
   "metadata": {},
   "source": [
    "## if, elif, and else\n",
    "**Initial Prompt:**\n",
    ">\"Could you suggest a modification of the Python code for “Hello, world!” to demonstrate the concepts of if, elif, and else statements to a complete beginner in programming? Please explain the code step-by-step highlighting any\n",
    "key aspects.\""
   ]
  },
  {
   "cell_type": "markdown",
   "id": "20462467-b226-4f23-9894-243ee171a077",
   "metadata": {},
   "source": [
    "**Response Summary:**  \n",
    "- Introduced conditional statements: `if`, `elif`, and `else`, which help programs make decisions.  \n",
    "- Asked the user to choose a greeting type and stored the response in a variable.  \n",
    "- Used `.strip()` and `.lower()` to make the input cleaner and easier to compare.  \n",
    "- Explained how each conditional checks a different input value (`formal`, `casual`, or `fun`) and runs matching code.  \n",
    "- Highlighted that `else` provides a default response when none of the conditions are met.  "
   ]
  },
  {
   "cell_type": "markdown",
   "id": "7caa5328-3477-4b26-b85d-287c3c81349a",
   "metadata": {},
   "source": [
    "**Example Code**"
   ]
  },
  {
   "cell_type": "code",
   "execution_count": 11,
   "id": "32e4d911-24fa-450d-8568-aa2b930bad3f",
   "metadata": {},
   "outputs": [
    {
     "name": "stdin",
     "output_type": "stream",
     "text": [
      "Choose a greeting type (formal, casual, fun):  formal\n"
     ]
    },
    {
     "name": "stdout",
     "output_type": "stream",
     "text": [
      "Good day to you.\n"
     ]
    }
   ],
   "source": [
    "# Ask the user to choose a greeting type\n",
    "greeting_type = input(\"Choose a greeting type (formal, casual, fun): \").strip().lower()\n",
    "\n",
    "# Use if, elif, and else to decide which greeting to print\n",
    "if greeting_type == \"formal\":\n",
    "    print(\"Good day to you.\")\n",
    "elif greeting_type == \"casual\":\n",
    "    print(\"Hello, world!\")\n",
    "elif greeting_type == \"fun\":\n",
    "    print(\"Hey there, superstar!\")\n",
    "else:\n",
    "    print(\"I didn't recognize that greeting type.\")"
   ]
  },
  {
   "cell_type": "markdown",
   "id": "7105fcb8-26bf-4058-bdcf-2ab2c17d466e",
   "metadata": {},
   "source": [
    "**What I learned:**\n",
    "This task helped me understand how Python makes decisions.  \n",
    "I learned that `if` checks a condition, `elif` lets me test more options, and `else` acts as a fallback.  \n",
    "Using `.strip().lower()` was clever because it prevented small typing mistakes from breaking the logic.  "
   ]
  },
  {
   "cell_type": "markdown",
   "id": "8a08963d-90e9-478f-9b0f-11cbf1ee2e2b",
   "metadata": {},
   "source": [
    "## Operators in Python\n",
    "**Initial Prompt:**\n",
    ">\"Could you suggest a modification of the Python code for “Hello, world!” to demonstrate the concept of operators to a complete beginner in programming? Please explain the code step-by-step highlighting any key aspects. Include discussions about addition and multiplication between strings and numbers.\""
   ]
  },
  {
   "cell_type": "markdown",
   "id": "a4a22af2-0bd0-498a-bb20-1ca9fd3f75d8",
   "metadata": {},
   "source": [
    "**Response Summary:**  \n",
    "- Explained the concept of **operators** as symbols that perform actions on variables and values.  \n",
    "- Demonstrated **arithmetic operators** (`+`, `*`) with numbers for addition and multiplication.  \n",
    "- Showed how the same operators work differently for **strings**: `+` concatenates text, and `*` repeats it.  \n",
    "- Discussed that mixing strings and numbers directly causes a **TypeError**.  \n",
    "- Explained how to fix the error using **type conversion** with `str()`.  "
   ]
  },
  {
   "cell_type": "markdown",
   "id": "7c285387-32cc-4fd1-abac-5809d335be5e",
   "metadata": {},
   "source": [
    "**Example Code**"
   ]
  },
  {
   "cell_type": "code",
   "execution_count": 1,
   "id": "e9531e35-2706-4bd0-a6fd-793355aa7546",
   "metadata": {},
   "outputs": [
    {
     "name": "stdout",
     "output_type": "stream",
     "text": [
      "Addition: 8\n",
      "Multiplication: 15\n",
      "String addition: Hello world!\n",
      "String multiplication: HelloHelloHello\n",
      "Age: 25\n"
     ]
    }
   ],
   "source": [
    "# Using operators with numbers\n",
    "a = 5\n",
    "b = 3\n",
    "print(\"Addition:\", a + b)        # Adds numbers: 5 + 3 = 8\n",
    "print(\"Multiplication:\", a * b)  # Multiplies numbers: 5 * 3 = 15\n",
    "\n",
    "# Using operators with strings\n",
    "greeting = \"Hello\"\n",
    "print(\"String addition:\", greeting + \" world!\")  # Combines strings\n",
    "print(\"String multiplication:\", greeting * 3)    # Repeats string 3 times\n",
    "\n",
    "# Mixing string and number (incorrect)\n",
    "# print(\"Age: \" + 25)  # ❌ This causes an error\n",
    "\n",
    "# Fixing the error with type conversion\n",
    "print(\"Age: \" + str(25))  # ✅ Converts number to string before adding"
   ]
  },
  {
   "cell_type": "markdown",
   "id": "42a7ac99-7db1-470a-a47c-7785eb770b19",
   "metadata": {},
   "source": [
    "**What I learned:**\n",
    "This exercise helped me see that the same symbols can behave differently depending on what data they’re working with.  \n",
    "I learned that `+` adds numbers but joins strings, while `*` multiplies numbers and repeats strings.  \n",
    "It was also interesting to see that mixing types (like text and numbers) can cause errors, but type conversion with `str()` fixes the issue.  "
   ]
  },
  {
   "cell_type": "markdown",
   "id": "9cc73cf6-bffb-4c37-890d-3fc71b0e901f",
   "metadata": {},
   "source": [
    "**Suggest Prompt:**\n",
    ">“Would you like to try a version where the user inputs numbers or strings and sees how operators behave with their own data?”"
   ]
  },
  {
   "cell_type": "markdown",
   "id": "dcf7f886-d026-42ad-8dcd-39ba55b24820",
   "metadata": {},
   "source": [
    "**Follow-on Prompt:**\n",
    ">Could you modify the previous operators example so that the user can enter their own numbers and strings to see how the operators behave? Please include step-by-step explanations for a complete beginner. The program should:\n",
    ">1. Ask the user to enter two numbers and demonstrate addition (+) and multiplication (*).\n",
    ">2. Ask the user to enter a word and show what happens when you use + and * with strings.\n",
    ">3. Explain how input() returns strings, why type conversion with int() or float() is necessary for arithmetic, and how string operations differ from numeric ones."
   ]
  },
  {
   "cell_type": "markdown",
   "id": "feff6e2f-77cc-4d23-8fcf-fb4da635ee98",
   "metadata": {},
   "source": [
    "**Response Summary:**  \n",
    "- Built an interactive program that allows the user to enter two numbers and one word.  \n",
    "- Used `float()` to convert number inputs for arithmetic operations.  \n",
    "- Demonstrated how `+` and `*` perform addition and multiplication with numbers, but concatenation and repetition with strings.  \n",
    "- Highlighted that `input()` always returns strings, so conversion is necessary for math.  \n",
    "- Explained the behaviour differences between numeric and text operations.  "
   ]
  },
  {
   "cell_type": "markdown",
   "id": "d7286255-0afe-44a9-9a58-5fdfc9e42c64",
   "metadata": {},
   "source": [
    "**Example Code**"
   ]
  },
  {
   "cell_type": "code",
   "execution_count": 2,
   "id": "a18978bb-8e87-447d-b181-ebbe9f81669e",
   "metadata": {},
   "outputs": [
    {
     "name": "stdin",
     "output_type": "stream",
     "text": [
      "Enter the first number:  250\n",
      "Enter the second number:  520\n"
     ]
    },
    {
     "name": "stdout",
     "output_type": "stream",
     "text": [
      "Addition: 770.0\n",
      "Multiplication: 130000.0\n"
     ]
    },
    {
     "name": "stdin",
     "output_type": "stream",
     "text": [
      "\n",
      "Enter a word:  bubble tea\n"
     ]
    },
    {
     "name": "stdout",
     "output_type": "stream",
     "text": [
      "String addition: bubble tea world!\n",
      "String multiplication: bubble teabubble teabubble tea\n"
     ]
    }
   ],
   "source": [
    "# Ask the user to enter two numbers\n",
    "num1 = input(\"Enter the first number: \")\n",
    "num2 = input(\"Enter the second number: \")\n",
    "\n",
    "# Convert input strings to numbers\n",
    "num1 = float(num1)\n",
    "num2 = float(num2)\n",
    "\n",
    "# Demonstrate addition and multiplication\n",
    "print(\"Addition:\", num1 + num2)\n",
    "print(\"Multiplication:\", num1 * num2)\n",
    "\n",
    "# Ask the user to enter a word\n",
    "word = input(\"\\nEnter a word: \")\n",
    "\n",
    "# Demonstrate string addition and multiplication\n",
    "print(\"String addition:\", word + \" world!\")     # Combines strings\n",
    "print(\"String multiplication:\", word * 3)       # Repeats the word 3 times"
   ]
  },
  {
   "cell_type": "markdown",
   "id": "8c7ff32d-4009-4c69-82a1-aa83797bcb3e",
   "metadata": {},
   "source": [
    "**What I learned:**\n",
    "This exercise made the concept of operators much clearer to me.  \n",
    "I learned that even though the same symbols (`+`, `*`) are used, Python treats them differently depending on whether the data is numeric or textual.  \n",
    "Using `input()` and `float()` together helped me understand why type conversion is necessary before doing arithmetic.  \n",
    "It was also fun to see how `*` repeats strings."
   ]
  },
  {
   "cell_type": "markdown",
   "id": "e7979101-bd94-4551-8fe1-4e5e6a3d9047",
   "metadata": {},
   "source": [
    "## Classes, Objects, and Methods\n",
    "**Initial Prompt:**\n",
    ">\"Could you suggest a modification of the Python code for “Hello,world!” to demonstrate the concept of classes, objects and methods to a complete beginner in programming? Please explain the code step-by-step highlighting any key aspects.\""
   ]
  },
  {
   "cell_type": "markdown",
   "id": "93880c64-fe5c-4418-ac1f-f9d1da852b96",
   "metadata": {},
   "source": [
    "**Response Summary:**  \n",
    "- Introduced the core idea of **object-oriented programming (OOP)** using a simple `Greeter` class.  \n",
    "- Defined a method `say_hello()` inside the class to print “Hello, world!”.  \n",
    "- Explained that `self` refers to the instance of the class calling the method.  \n",
    "- Created an object of the class (`greeting = Greeter()`) and used it to call the method.  \n",
    "- Highlighted that classes act as blueprints, and objects are the individual results created from them.  \n"
   ]
  },
  {
   "cell_type": "markdown",
   "id": "b2c0854e-ab39-4c5f-82c5-80c062fd01f4",
   "metadata": {},
   "source": [
    "**Example Code**"
   ]
  },
  {
   "cell_type": "code",
   "execution_count": 3,
   "id": "183cb43c-0fce-46dd-829c-2e3de96bb118",
   "metadata": {},
   "outputs": [
    {
     "name": "stdout",
     "output_type": "stream",
     "text": [
      "Hello, world!\n"
     ]
    }
   ],
   "source": [
    "# Define a class\n",
    "class Greeter:\n",
    "    # Method inside the class\n",
    "    def say_hello(self):\n",
    "        print(\"Hello, world!\")\n",
    "\n",
    "# Create an object (instance) of the class\n",
    "greeting = Greeter()\n",
    "\n",
    "# Call the method using the object\n",
    "greeting.say_hello()"
   ]
  },
  {
   "cell_type": "markdown",
   "id": "4c1bfb16-de12-4bab-ae58-641c12619a2e",
   "metadata": {},
   "source": [
    "**What I learned:**\n",
    "This was my first real look at object-oriented programming, and it made me understand how code can be organised around “things” instead of just steps.  \n",
    "Classes acts like a blueprint provide structure for programs — they let me group related functions (methods) and data (attributes) together to create reusable, modular code.\n",
    "Using `self` inside methods was new to me, but it makes sense that the object needs a way to refer to itself.  "
   ]
  },
  {
   "cell_type": "markdown",
   "id": "72e681cf-4cab-4d4d-b47c-82247eca3bfc",
   "metadata": {},
   "source": [
    "**Suggest Prompt:**\n",
    ">“Would you like to expand this example to include personalised greetings using user input, or add attributes like name or language to the class?”"
   ]
  },
  {
   "cell_type": "markdown",
   "id": "e409d5ab-8052-4c1f-bb73-67a0b0009717",
   "metadata": {},
   "source": [
    "**Follow-on Prompt:**\n",
    ">Could you modify the previous class example to include attributes and user input? Please explain step-by-step for a complete beginner. The program should:\n",
    ">1. Ask the user for their name.\n",
    ">2. Store the name as an attribute in a class called Greeter.\n",
    ">3. Include a method that uses this attribute to print a personalized greeting.\n",
    ">4. Explain how the __init__() method works to initialize object attributes and why self is used to access them."
   ]
  },
  {
   "cell_type": "markdown",
   "id": "eb8f795b-303c-4a40-b791-411c373bd61c",
   "metadata": {},
   "source": [
    "**Response Summary:**  \n",
    "- Created a `Greeter` class that includes an attribute (`self.name`) to store the user’s name.  \n",
    "- Explained that `__init__()` runs automatically when an object is created, and initialises its attributes.  \n",
    "- Used `input()` to ask the user for their name and passed it as an argument to the class.  \n",
    "- Demonstrated how `self` connects the method and the stored data so each object can remember its own name.  \n",
    "- Included a `say_hello()` method that prints a personalised message using the stored attribute.  "
   ]
  },
  {
   "cell_type": "markdown",
   "id": "89a1fe47-3c5b-475a-a2f4-5a654b76a153",
   "metadata": {},
   "source": [
    "**Example Code**"
   ]
  },
  {
   "cell_type": "code",
   "execution_count": 5,
   "id": "24e3bb2e-d851-4de2-a863-bf4b04192787",
   "metadata": {},
   "outputs": [
    {
     "name": "stdin",
     "output_type": "stream",
     "text": [
      "What is your name?  Noreen\n"
     ]
    },
    {
     "name": "stdout",
     "output_type": "stream",
     "text": [
      "Hello, Noreen!\n"
     ]
    }
   ],
   "source": [
    "# Define the Greeter class\n",
    "class Greeter:\n",
    "    # The __init__ method initializes the object's attributes\n",
    "    def __init__(self, name):\n",
    "        self.name = name  # Store the name as an attribute\n",
    "\n",
    "    # Method to print a personalized greeting\n",
    "    def say_hello(self):\n",
    "        print(\"Hello, \" + self.name + \"!\")\n",
    "\n",
    "# Ask the user for their name\n",
    "user_name = input(\"What is your name? \")\n",
    "\n",
    "# Create an object of the Greeter class using the user's name\n",
    "greeting = Greeter(user_name)\n",
    "\n",
    "# Call the method to print the personalized greeting\n",
    "greeting.say_hello()"
   ]
  },
  {
   "cell_type": "markdown",
   "id": "fee66395-93d9-4077-8e9d-a171028c19c1",
   "metadata": {},
   "source": [
    "**What I learned:**\n",
    "This exercise helped me understand how data can live inside an object.  \n",
    "I learned that the `__init__()` method automatically runs when an object is created and stores information like the user’s name.  "
   ]
  },
  {
   "cell_type": "markdown",
   "id": "6cce2fbf-a68d-4d27-9166-b1cfa3735718",
   "metadata": {},
   "source": [
    "## Basic syntax of Python\n",
    "**Initial Prompt:**\n",
    ">\"Could you use the examples you have provided above to explain basic syntax of Python to a\n",
    "complete beginner in programming? Please explain step-by-step highlighting any key aspects. Please include well known references to Python styling guides."
   ]
  },
  {
   "cell_type": "markdown",
   "id": "b5349601-09ef-491a-a629-2924ad922cd5",
   "metadata": {},
   "source": [
    "**Response Summary:**  \n",
    "- Provided an overview of Python syntax using examples like `print()`, loops, variables, functions, and classes.  \n",
    "- Emphasised that Python is **clean, readable, and follows indentation rules** instead of brackets.  \n",
    "- Included short examples to illustrate key concepts such as:  \n",
    "  - printing text with `print()`  \n",
    "  - defining variables dynamically  \n",
    "  - using loops, conditionals, and functions  \n",
    "  - creating classes and using methods  \n",
    "  - importing libraries like `math` and `random`  \n",
    "- Referred to **PEP 8** as the official Python style guide and explained that it encourages readability and consistency.  "
   ]
  },
  {
   "cell_type": "markdown",
   "id": "8229848d-20ef-4538-a62c-f212846a1480",
   "metadata": {},
   "source": [
    "**1. Printing Output**"
   ]
  },
  {
   "cell_type": "code",
   "execution_count": 13,
   "id": "41fcba16-2ad5-408e-969a-032f423c9675",
   "metadata": {},
   "outputs": [
    {
     "name": "stdout",
     "output_type": "stream",
     "text": [
      "Hello, world!\n"
     ]
    }
   ],
   "source": [
    "print(\"Hello, world!\")"
   ]
  },
  {
   "cell_type": "markdown",
   "id": "32edc3e1-1475-4011-a7f1-254618d14515",
   "metadata": {},
   "source": [
    "**2. Variables and Data Types**"
   ]
  },
  {
   "cell_type": "code",
   "execution_count": 12,
   "id": "b765cd78-cff2-4a75-907f-28dd7b7ff957",
   "metadata": {},
   "outputs": [],
   "source": [
    "name = \"Noreen\"      # string\n",
    "age = 21             # integer\n",
    "height = 1.65        # float"
   ]
  },
  {
   "cell_type": "markdown",
   "id": "775719bc-cf26-4e72-9266-9fb5f7682ae6",
   "metadata": {},
   "source": [
    "**3. Variables and Data Types**"
   ]
  },
  {
   "cell_type": "code",
   "execution_count": 11,
   "id": "1088a07e-1eea-4fe4-8536-1d954852bb66",
   "metadata": {},
   "outputs": [
    {
     "name": "stdout",
     "output_type": "stream",
     "text": [
      "Hello, world!\n",
      "Hello, world!\n",
      "Hello, world!\n",
      "Hello, world!\n",
      "Hello, world!\n"
     ]
    }
   ],
   "source": [
    "for i in range(5):\n",
    "    print(\"Hello, world!\")"
   ]
  },
  {
   "cell_type": "markdown",
   "id": "a051e29e-8b41-4a48-b9ea-e524c2a14cab",
   "metadata": {},
   "source": [
    "**4. Operators**"
   ]
  },
  {
   "cell_type": "code",
   "execution_count": 10,
   "id": "c16e9370-532d-4701-a11f-35d01d941c66",
   "metadata": {},
   "outputs": [
    {
     "name": "stdout",
     "output_type": "stream",
     "text": [
      "8\n",
      "HiHiHi\n"
     ]
    }
   ],
   "source": [
    "a = 5\n",
    "b = 3\n",
    "print(a + b)         # Addition\n",
    "print(\"Hi\" * 3)      # String repetition"
   ]
  },
  {
   "cell_type": "markdown",
   "id": "dc0770cf-80ee-44db-96d5-b807f9288f31",
   "metadata": {},
   "source": [
    "**5. Conditional Statements**"
   ]
  },
  {
   "cell_type": "code",
   "execution_count": 15,
   "id": "0cb45169-0660-4d1b-9b22-12bed841d0cf",
   "metadata": {},
   "outputs": [
    {
     "name": "stdout",
     "output_type": "stream",
     "text": [
      "You're an adult.\n"
     ]
    }
   ],
   "source": [
    "name = \"Noreen\"      # string\n",
    "age = 21             # integer\n",
    "height = 1.65        # float\n",
    "\n",
    "if age < 18:\n",
    "    print(\"You're a minor.\")\n",
    "elif age < 65:\n",
    "    print(\"You're an adult.\")\n",
    "else:\n",
    "    print(\"You're a senior.\")"
   ]
  },
  {
   "cell_type": "markdown",
   "id": "1c57c079-4050-4266-a45e-eb6389fdc651",
   "metadata": {},
   "source": [
    "**6. Functions**"
   ]
  },
  {
   "cell_type": "code",
   "execution_count": 8,
   "id": "61094397-381b-492b-96d0-fcc4e13961fb",
   "metadata": {},
   "outputs": [
    {
     "name": "stdout",
     "output_type": "stream",
     "text": [
      "Hello, Noreen!\n"
     ]
    }
   ],
   "source": [
    "def greet(name):\n",
    "    print(\"Hello, \" + name + \"!\")\n",
    "\n",
    "greet(\"Noreen\")"
   ]
  },
  {
   "cell_type": "markdown",
   "id": "353aae11-5b93-4ef2-8425-876c05c027a7",
   "metadata": {},
   "source": [
    "**7. Classes and Objects**"
   ]
  },
  {
   "cell_type": "code",
   "execution_count": 7,
   "id": "7283e70c-abf6-447b-ae4f-600a3cb74d24",
   "metadata": {},
   "outputs": [
    {
     "name": "stdout",
     "output_type": "stream",
     "text": [
      "Hello, Noreen!\n"
     ]
    }
   ],
   "source": [
    "class Greeter:\n",
    "    def __init__(self, name):\n",
    "        self.name = name\n",
    "\n",
    "    def say_hello(self):\n",
    "        print(\"Hello, \" + self.name + \"!\")\n",
    "\n",
    "greeting = Greeter(\"Noreen\")\n",
    "greeting.say_hello()"
   ]
  },
  {
   "cell_type": "markdown",
   "id": "12ea98db-7416-48d7-b6e7-11a53bb5fd59",
   "metadata": {},
   "source": [
    "**8. Importing Libraries**"
   ]
  },
  {
   "cell_type": "code",
   "execution_count": 6,
   "id": "f617d491-241b-436a-9067-ebea016b3162",
   "metadata": {},
   "outputs": [
    {
     "name": "stdout",
     "output_type": "stream",
     "text": [
      "5.0\n",
      "Hi\n"
     ]
    }
   ],
   "source": [
    "import math\n",
    "import random\n",
    "\n",
    "print(math.sqrt(25))               # Square root\n",
    "print(random.choice([\"Hi\", \"Hey\"]))  # Random greeting"
   ]
  },
  {
   "cell_type": "markdown",
   "id": "f638092d-dbaa-4c19-8573-187d9a7b2456",
   "metadata": {},
   "source": [
    "**What I learned:**\n",
    "Python’s syntax is simple and logical — indentation defines structure, and the focus is on readability. Following **PEP 8** helps keep code clean and professional."
   ]
  },
  {
   "cell_type": "markdown",
   "id": "a322eaa8-4106-4c57-915c-e09c097f6ef7",
   "metadata": {},
   "source": [
    "## Simplicity, Security, and Inclusion in Python\n",
    "**Initial Prompt:**\n",
    ">\"Could you suggest three different Python implementations of the Hello World program to emphasise, respectively, principles of simplicity, security, and inclusion? Please explain step-by-step highlighting any key aspects.\""
   ]
  },
  {
   "cell_type": "markdown",
   "id": "45b01577-81d4-4a08-a243-762f5df49a6d",
   "metadata": {},
   "source": [
    "**Response Summary:**  \n",
    "- Created **three “Hello, world!” versions**, each demonstrating a core programming value:  \n",
    "  1️. **Simplicity** — one-line code using only `print()`.  \n",
    "  2️. **Security** — validates user input with checks before printing.  \n",
    "  3️. **Inclusion** — supports multilingual greetings via a dictionary.  \n",
    "- Explained how each approach follows best practices from **PEP 8**, such as writing clear, safe, and user-friendly code.  \n",
    "- Highlighted ethical and practical aspects of programming — simplicity for maintainability, security for trust, and inclusion for accessibility.  "
   ]
  },
  {
   "cell_type": "markdown",
   "id": "0d4703dc-1e0a-44fd-9b4f-137c6cea7786",
   "metadata": {},
   "source": [
    "**1. Simplicity-Focused Implementation**"
   ]
  },
  {
   "cell_type": "code",
   "execution_count": 1,
   "id": "ad4d4140-bc71-4b49-b8df-2f62fb54e321",
   "metadata": {},
   "outputs": [
    {
     "name": "stdout",
     "output_type": "stream",
     "text": [
      "Hello, world!\n"
     ]
    }
   ],
   "source": [
    "print(\"Hello, world!\")"
   ]
  },
  {
   "cell_type": "markdown",
   "id": "09490740-1316-4788-ad1b-9d0c27be3f4b",
   "metadata": {},
   "source": [
    "**2. Security-Focused Implementation**"
   ]
  },
  {
   "cell_type": "code",
   "execution_count": 2,
   "id": "611a9c78-aaae-4062-9656-8518338d9c4e",
   "metadata": {},
   "outputs": [
    {
     "name": "stdin",
     "output_type": "stream",
     "text": [
      "Enter your name:  Noreen\n"
     ]
    },
    {
     "name": "stdout",
     "output_type": "stream",
     "text": [
      "Hello, Noreen!\n"
     ]
    }
   ],
   "source": [
    "def safe_greet(user_input):\n",
    "    if isinstance(user_input, str) and len(user_input) < 100:\n",
    "        print(\"Hello, \" + user_input + \"!\")\n",
    "    else:\n",
    "        print(\"Invalid input.\")\n",
    "\n",
    "name = input(\"Enter your name: \")\n",
    "safe_greet(name)"
   ]
  },
  {
   "cell_type": "markdown",
   "id": "ed9ee51c-601c-4c04-b93d-1f3a6fd25478",
   "metadata": {},
   "source": [
    "**3. Inclusion-Focused Implementation**"
   ]
  },
  {
   "cell_type": "code",
   "execution_count": 3,
   "id": "ae025af0-eca3-493f-a03d-ac00bde3919e",
   "metadata": {},
   "outputs": [
    {
     "name": "stdin",
     "output_type": "stream",
     "text": [
      "What is your name?  Noreen\n",
      "Choose a language (English, Spanish, French, Hindi, Arabic):  English\n"
     ]
    },
    {
     "name": "stdout",
     "output_type": "stream",
     "text": [
      "Hello, Noreen!\n"
     ]
    }
   ],
   "source": [
    "def inclusive_greet(name, language=\"English\"):\n",
    "    greetings = {\n",
    "        \"English\": \"Hello\",\n",
    "        \"Spanish\": \"¡Hola\",\n",
    "        \"French\": \"Bonjour\",\n",
    "        \"Hindi\": \"नमस्ते\",\n",
    "        \"Arabic\": \"مرحبا\"\n",
    "    }\n",
    "\n",
    "    greeting = greetings.get(language, greetings[\"English\"])\n",
    "    print(f\"{greeting}, {name}!\")\n",
    "\n",
    "# Ask for user input\n",
    "name = input(\"What is your name? \")\n",
    "language = input(\"Choose a language (English, Spanish, French, Hindi, Arabic): \")\n",
    "\n",
    "inclusive_greet(name, language)"
   ]
  },
  {
   "cell_type": "markdown",
   "id": "6a115935-c7ae-408f-98dc-c08276aeadc5",
   "metadata": {},
   "source": [
    "**What I learned:**\n",
    "Good code isn’t just about functionality — it’s about clarity, safety, and respect for all users."
   ]
  },
  {
   "cell_type": "markdown",
   "id": "b9d26186-9619-4234-b2a1-bb795626c362",
   "metadata": {},
   "source": [
    "### Pseudocode\n",
    "#### Everyday Algorithm: Crossing the Road Safely\n",
    "\n",
    "This procedure outlines the steps required to cross a road using a signalized crosswalk (pedestrian light).\n",
    "\n",
    "1.  **Approach the Crossing:** Walk towards the designated pedestrian crosswalk.\n",
    "2.  **Request to Cross (Input):**\n",
    "    - Locate the pedestrian signal pole/box.\n",
    "    - Press the crossing request button.\n",
    "3.  **Wait for Signal (Conditional Loop):**\n",
    "    - Wait for the red hand symbol (or red man) to change.\n",
    "    - **IF** the walk signal (white walking figure) is displayed: proceed to the next step.\n",
    "    - **ELSE:** Continue waiting.\n",
    "4.  **Verify Traffic (Safety Check):**\n",
    "    - Look left, then right, then left again to confirm all traffic has stopped.\n",
    "5.  **Execution (Action):**\n",
    "    - Walk quickly and directly across the road.\n",
    "6.  **Termination:** Stop walking once you have reached the opposite curb."
   ]
  },
  {
   "cell_type": "code",
   "execution_count": null,
   "id": "bfa56f54-22a5-4180-83f9-4490d718e9ba",
   "metadata": {},
   "outputs": [],
   "source": []
  },
  {
   "cell_type": "markdown",
   "id": "49a8751d-cc7d-4341-99e2-c4e220ebd6c4",
   "metadata": {},
   "source": [
    "**Example Pseudocode:**\n",
    "\n",
    "INPUT: PedestrianAtCrosswalk (Boolean), TrafficLightStatus\n",
    "\n",
    "SET button_pressed = FALSE\n",
    "SET walk_signal = FALSE\n",
    "\n",
    "IF PedestrianAtCrosswalk IS TRUE:\n",
    "    SET button_pressed = TRUE\n",
    "    WHILE TrafficLightStatus IS NOT \"WALK\":\n",
    "        WAIT \n",
    "    \n",
    "    SET walk_signal = TRUE\n",
    "    \n",
    "    IF CheckTrafficStopped IS TRUE:\n",
    "        EXECUTE ACTION: CrossRoad\n",
    "        OUTPUT \"Reached opposite curb.\"\n",
    "    ELSE:\n",
    "        OUTPUT \"WARNING: Traffic not stopped. Wait again.\"\n",
    "\n",
    "ELSE:\n",
    "    OUTPUT \"No need to cross.\""
   ]
  },
  {
   "cell_type": "markdown",
   "id": "2c4fb2be-cfac-4d27-b1bd-dda57f808272",
   "metadata": {},
   "source": [
    "#### Key Feedback and Improvements from Copilot\n",
    "Copilot confirmed the logical flow was sound but identified several critical gaps, which is essential for understanding how real-world code can fail.\n",
    "\n",
    "\n",
    "**Missing definition for *CheckTrafficStopped***\t\n",
    "- The code uses a variable (CheckTrafficStopped) without defining its source (Is it sensor data? Is it an external input?). This shows a reliance on undefined external components.\n",
    "  \n",
    "**Potential Infinite Loop**\n",
    "- The WHILE loop could cause the program to freeze if the TrafficLightStatus never updates or gets stuck (a common bug in programming).\n",
    "  \n",
    "**Lack of Clarity on Status Update**\n",
    "- I did not specify how the TrafficLightStatus changes. Copilot's improved version added a comment to assume the status is updated externally, making the logic clearer.\n",
    "\n"
   ]
  },
  {
   "cell_type": "markdown",
   "id": "ee3e4d23-daf7-4a8d-bb36-55a156281ad4",
   "metadata": {},
   "source": [
    "#### code - crossing the road\n",
    "**Prompt:**  Please translate the following refined pseudocode for \"Crossing the Road Safely\" into actual Python code. Since the inputs are abstract (like traffic status), please use simple input() functions and boolean variables to simulate the necessary conditions. Explain the resulting Python code step-by-step."
   ]
  },
  {
   "cell_type": "code",
   "execution_count": null,
   "id": "b1ffce9c-63f3-45a4-be82-d38bbaba4762",
   "metadata": {},
   "outputs": [],
   "source": [
    "# Simulate inputs\n",
    "pedestrian_at_crosswalk = input(\"Is there a pedestrian at the crosswalk? (yes/no): \").strip().lower() == \"yes\"\n",
    "traffic_light_status = input(\"What is the traffic light status? (WALK/STOP): \").strip().upper()\n",
    "check_traffic_stopped = input(\"Has traffic stopped? (yes/no): \").strip().lower() == \"yes\"\n",
    "\n",
    "# Initial states\n",
    "button_pressed = False\n",
    "walk_signal = False\n",
    "\n",
    "# Logic\n",
    "if pedestrian_at_crosswalk:\n",
    "    button_pressed = True\n",
    "    print(\"Button pressed. Waiting for WALK signal...\")\n",
    "\n",
    "    while traffic_light_status != \"WALK\":\n",
    "        print(\"Still waiting...\")  # Simulate waiting\n",
    "        traffic_light_status = input(\"Update traffic light status (WALK/STOP): \").strip().upper()\n",
    "\n",
    "    walk_signal = True\n",
    "    print(\"WALK signal is ON.\")\n",
    "\n",
    "    if check_traffic_stopped:\n",
    "        print(\"Crossing the road...\")\n",
    "        print(\"Reached opposite curb.\")\n",
    "    else:\n",
    "        print(\"WARNING: Traffic not stopped. Wait again.\")\n",
    "else:\n",
    "    print(\"No need to cross.\")\n"
   ]
  },
  {
   "cell_type": "markdown",
   "id": "36a5a2b8-592c-4c01-b10f-ea8a977de9d3",
   "metadata": {},
   "source": [
    "### Reflection on Code Translation\n",
    "\n",
    "This exercise translated a practical, everyday **algorithm** into Python **code**, demonstrating how abstract logic is implemented using programming concepts.\n",
    "\n",
    "### Key Python Concepts Used:\n",
    "\n",
    "1.  **Input/Variable Assignment:** The program uses the `input()` function heavily to simulate real-world sensor data (like pressing a button or checking the traffic light status). The `input()` result is immediately assigned to variables (e.g., `pedestrian_at_crosswalk`).\n",
    "2.  **Boolean Logic:** The `input()` results are converted to Boolean (`True`/`False`) values for clear conditional checks.\n",
    "3.  **Conditional Statements:** The `if/else` structure (starting with `if pedestrian_at_crosswalk:`) handles the branching logic of the algorithm.\n",
    "4.  **Loops:** The `while` loop successfully addresses the \"wait for signal\" requirement identified in the pseudocode. It continuously asks for input until the status is \"WALK,\" effectively preventing the **\"potential infinite loop\"** issue noted in the pseudocode review by relying on user input to update the status.\n",
    "\n",
    "### Code Execution and Environment Reflection:\n",
    "\n",
    "* **Did the code run?** (Answer based on your experience.)\n",
    "    * *If NO:* Due to persistent **Jupyter kernel connection issues** in Codespace, I was unable to test this code live. This highlights the reality that even perfect code is useless without a functional environment (runtime/kernel).\n",
    "    * *If YES:* I successfully tested the code, confirming that the `while` loop simulation works by continuously prompting for the `WALK` status.\n",
    "* **Did it meet expectations?** Yes, the Python code translated the pseudocode's abstract steps (WAIT, CHECK) into concrete Python functions (`print()`, `while` loop, `input()`). The code successfully required the user to **manually update the traffic status** inside the loop, fulfilling the \"update externally\" assumption noted by Copilot.\n",
    "\n",
    "### Conclusion on Using Copilot for Code:\n",
    "\n",
    "Copilot was highly effective in this task. Not only did it generate the code, but its step-by-step approach forced me to critically examine how abstract ideas are mapped to specific Python syntax (e.g., how the abstract `WAIT` command becomes a combination of `print()` and the `while` loop). The process confirmed the importance of **variables**, **conditionals**, and **loops** as the core building blocks of any algorithm."
   ]
  },
  {
   "cell_type": "code",
   "execution_count": null,
   "id": "1a9d18ba-ffe2-4963-bee0-cbee2518c8ae",
   "metadata": {},
   "outputs": [],
   "source": []
  }
 ],
 "metadata": {
  "kernelspec": {
   "display_name": "Python 3 (ipykernel)",
   "language": "python",
   "name": "python3"
  },
  "language_info": {
   "codemirror_mode": {
    "name": "ipython",
    "version": 3
   },
   "file_extension": ".py",
   "mimetype": "text/x-python",
   "name": "python",
   "nbconvert_exporter": "python",
   "pygments_lexer": "ipython3",
   "version": "3.12.1"
  }
 },
 "nbformat": 4,
 "nbformat_minor": 5
}
