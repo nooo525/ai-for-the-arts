{
 "cells": [
  {
   "cell_type": "markdown",
   "id": "c9f20b00",
   "metadata": {},
   "source": [
    "# My First Python Code Practice\n",
    "This notebook is for learning basic programming concepts like printing, variables, and functions. My goal is to become comfortable reading Python code and understanding its social implications."
   ]
  },
  {
   "cell_type": "code",
   "execution_count": null,
   "id": "c2cf3e40",
   "metadata": {},
   "outputs": [],
   "source": [
    "print(\"Hello, World!\")"
   ]
  }
 ],
 "metadata": {
  "language_info": {
   "name": "python"
  }
 },
 "nbformat": 4,
 "nbformat_minor": 5
}
